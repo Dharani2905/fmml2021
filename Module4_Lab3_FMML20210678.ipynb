{
  "nbformat": 4,
  "nbformat_minor": 0,
  "metadata": {
    "colab": {
      "name": "Module4_Lab3_FMML20210678.ipynb",
      "provenance": [],
      "include_colab_link": true
    },
    "kernelspec": {
      "name": "python3",
      "display_name": "Python 3"
    },
    "language_info": {
      "name": "python"
    }
  },
  "cells": [
    {
      "cell_type": "markdown",
      "metadata": {
        "id": "view-in-github",
        "colab_type": "text"
      },
      "source": [
        "<a href=\"https://colab.research.google.com/github/Dharani2905/fmml2021/blob/main/Module4_Lab3_FMML20210678.ipynb\" target=\"_parent\"><img src=\"https://colab.research.google.com/assets/colab-badge.svg\" alt=\"Open In Colab\"/></a>"
      ]
    },
    {
      "cell_type": "markdown",
      "source": [
        "# FOUNDATIONS OF MODERN MACHINE LEARNING, IIIT Hyderabad\n",
        "# Module 4: Perceptron and Gradient Descent\n",
        "## Lab 3: Gradient Descent\n",
        "### Module Coordinator: Tanish Lad\n",
        "\n",
        "Gradient descent is a very important algorithm to understand, as it underpins many of the more advanced algorithms used in Machine Learning and Deep Learning.\n",
        "\n",
        "A brief overview of the algorithm is\n",
        "\n",
        "\n",
        "*   start with a random initialization of the solution.\n",
        "*   incrementally change the solution by moving in the direction of negative gradient of the objective function.\n",
        "*   repeat the previous step until some convergence criteria is met.\n",
        "\n",
        "The key equation for change in weight is:\n",
        "$$w^{k+1} \\leftarrow w^k - \\eta \\Delta J$$\n",
        "\n",
        "In this lab, we will discuss stochastic gradient descent, mini-batch gradient descent and batch gradient descent.\n"
      ],
      "metadata": {
        "id": "XYxxkQg6xCjD"
      }
    },
    {
      "cell_type": "code",
      "metadata": {
        "id": "Fr-MnaGs7JmZ"
      },
      "source": [
        "import numpy as np\n",
        "import matplotlib.pyplot as plt"
      ],
      "execution_count": 1,
      "outputs": []
    },
    {
      "cell_type": "code",
      "metadata": {
        "id": "7ob_zZms7VOu"
      },
      "source": [
        "np.random.seed(42)"
      ],
      "execution_count": 2,
      "outputs": []
    },
    {
      "cell_type": "markdown",
      "metadata": {
        "id": "v4Kix4bcChiy"
      },
      "source": [
        "# Creating the Data\n",
        "\n",
        "Let's generate some data with:\n",
        "\\begin{equation} y_0= 4 \\end{equation} \n",
        "\\begin{equation} y_1= 3 \\end{equation} \n",
        "\n",
        "and also add some noise to the data."
      ]
    },
    {
      "cell_type": "code",
      "metadata": {
        "id": "MtAS7eFZ9hX6"
      },
      "source": [
        "X = 2 * np.random.rand(100, 1)\n",
        "y = 4 + 3 * X + np.random.randn(100, 1)"
      ],
      "execution_count": 3,
      "outputs": []
    },
    {
      "cell_type": "markdown",
      "metadata": {
        "id": "zD95NaF-CxM-"
      },
      "source": [
        "Let's also plot the data we just created"
      ]
    },
    {
      "cell_type": "code",
      "metadata": {
        "colab": {
          "base_uri": "https://localhost:8080/",
          "height": 297
        },
        "id": "3IiEP4BQ7Wja",
        "outputId": "953a0e82-b6d0-4ef0-acf1-d0dda4972a51"
      },
      "source": [
        "plt.plot(X, y, 'b.')\n",
        "plt.xlabel('x')\n",
        "plt.ylabel('y', rotation=0)"
      ],
      "execution_count": 4,
      "outputs": [
        {
          "output_type": "execute_result",
          "data": {
            "text/plain": [
              "Text(0, 0.5, 'y')"
            ]
          },
          "metadata": {},
          "execution_count": 4
        },
        {
          "output_type": "display_data",
          "data": {
            "image/png": "[encoded data removed]",
            "text/plain": [
              "<Figure size 432x288 with 1 Axes>"
            ]
          },
          "metadata": {
            "needs_background": "light"
          }
        }
      ]
    },
    {
      "cell_type": "markdown",
      "metadata": {
        "id": "ScwxpouoDDyZ"
      },
      "source": [
        "## Cost Function\n",
        "\n",
        "The equation for calculating cost function is as shown below. The cost function is only for linear regression. For other algorithms, the cost function will be different and the gradients would have to be derived from the cost functions\n",
        "\n",
        "\\begin{equation}\n",
        "J(y_{pred}) = \\frac{1}{2} m \\sum_{i=1}^{m} (h(y_{pred})^{(i)} - y^{(i)})^2 \n",
        "\\end{equation}"
      ]
    },
    {
      "cell_type": "code",
      "metadata": {
        "id": "PUeTUAXH7ZaV"
      },
      "source": [
        "def cal_cost(y_pred, X, y):\n",
        "    '''\n",
        "    Calculates the cost for given X and Y.\n",
        "    y_pred = Vector of y_preds \n",
        "    X = Row of X's np.zeros((2, j))\n",
        "    y = Actual y's np.zeros((2, 1))\n",
        "    \n",
        "    where:\n",
        "        j is the no of features\n",
        "    '''\n",
        "    \n",
        "    m = len(y)\n",
        "    \n",
        "    predictions = X.dot(y_pred)\n",
        "    cost = (1 / 2 * m) * np.sum(np.square(predictions - y))\n",
        "\n",
        "    return cost"
      ],
      "execution_count": 5,
      "outputs": []
    },
    {
      "cell_type": "markdown",
      "metadata": {
        "id": "FcXqsVNpDbKC"
      },
      "source": [
        "## Gradients\n",
        "\n",
        "\\begin{equation}\n",
        "y_{pred_0}: = y_{pred_0} -\\alpha . (1/m .\\sum_{i=1}^{m}(h(y_{pred}^{(i)} - y^{(i)}).X_0^{(i)})\n",
        "\\end{equation}\n",
        "\\begin{equation}\n",
        "y_{pred_1}: = y_{pred_1} -\\alpha . (1/m .\\sum_{i=1}^{m}(h(y_{pred}^{(i)} - y^{(i)}).X_0^{(i)})\n",
        "\\end{equation}\n",
        ".\n",
        "\n",
        ".\n",
        "\n",
        ".\n",
        "\n",
        ".\n",
        "\n",
        "\\begin{equation}\n",
        "y_{pred_j}: = y_{pred_j} -\\alpha . (1/m .\\sum_{i=1}^{m}(h(y_{pred}^{(i)} - y^{(i)}).X_0^{(i)})\n",
        "\\end{equation}"
      ]
    },
    {
      "cell_type": "code",
      "metadata": {
        "id": "fwxBFXP88NBW"
      },
      "source": [
        "def gradient_descent(X, y, y_pred, learning_rate=0.01, iterations=100):\n",
        "    '''\n",
        "    X = Matrix of X with added bias units\n",
        "    y = Vector of Y\n",
        "    y_pred = Vector of y_preds np.random.randn(j, 1)\n",
        "    learning_rate \n",
        "    iterations = no of iterations\n",
        "    \n",
        "    Returns the final y_pred vector and array of cost history over no of iterations\n",
        "    '''\n",
        "\n",
        "    m = len(y)\n",
        "    cost_history = np.zeros(iterations)\n",
        "    y_pred_history = np.zeros((iterations, 2))\n",
        "    \n",
        "    for it in range(iterations):    \n",
        "        prediction = np.dot(X, y_pred)\n",
        "        y_pred = y_pred - (1 / m) * learning_rate * (X.T.dot((prediction - y)))\n",
        "        y_pred_history[it,:] = y_pred.T\n",
        "        cost_history[it]  = cal_cost(y_pred, X, y)\n",
        "        \n",
        "    return y_pred, cost_history, y_pred_history    "
      ],
      "execution_count": 6,
      "outputs": []
    },
    {
      "cell_type": "markdown",
      "metadata": {
        "id": "1iSohSB2EtK1"
      },
      "source": [
        "Let's do 1000 iterations with a learning rate of 0.01. \n",
        "We will start with a random prediction."
      ]
    },
    {
      "cell_type": "code",
      "metadata": {
        "colab": {
          "base_uri": "https://localhost:8080/"
        },
        "id": "18AX7hrU8bv5",
        "outputId": "617a79bd-c5f2-4a90-a5ae-b551dc90c285"
      },
      "source": [
        "lr = 0.01\n",
        "n_iter = 1000\n",
        "\n",
        "y_pred = np.random.randn(2,1)\n",
        "X_b = np.c_[np.ones((len(X), 1)), X]\n",
        "y_pred, cost_history, y_pred_history = gradient_descent(X_b, y, y_pred, lr, n_iter)\n",
        "\n",
        "print('y_pred[0]: {:0.3f}\\ny_pred[1]: {:0.3f}'.format(y_pred[0][0], y_pred[1][0]))\n",
        "print('Final error: {:0.3f}'.format(cost_history[-1]))"
      ],
      "execution_count": 7,
      "outputs": [
        {
          "output_type": "stream",
          "name": "stdout",
          "text": [
            "y_pred[0]: 3.903\n",
            "y_pred[1]: 3.046\n",
            "Final error: 4180.375\n"
          ]
        }
      ]
    },
    {
      "cell_type": "markdown",
      "metadata": {
        "id": "m7fao2MaE216"
      },
      "source": [
        "Plotting the error vs Number of iterations"
      ]
    },
    {
      "cell_type": "code",
      "metadata": {
        "colab": {
          "base_uri": "https://localhost:8080/",
          "height": 515
        },
        "id": "DrkrAAbk8hIs",
        "outputId": "3c51d708-69a2-47f6-a800-d7fa37b4be81"
      },
      "source": [
        "fig, ax = plt.subplots(figsize=(12,8))\n",
        "\n",
        "ax.set_ylabel('Error')\n",
        "ax.set_xlabel('Number of iterations')\n",
        "\n",
        "ax.plot(range(n_iter), cost_history, 'b.')"
      ],
      "execution_count": 8,
      "outputs": [
        {
          "output_type": "execute_result",
          "data": {
            "text/plain": [
              "[<matplotlib.lines.Line2D at 0x7fc9c126a3d0>]"
            ]
          },
          "metadata": {},
          "execution_count": 8
        },
        {
          "output_type": "display_data",
          "data": {
            "image/png": "[encoded data removed]",
            "text/plain": [
              "<Figure size 864x576 with 1 Axes>"
            ]
          },
          "metadata": {
            "needs_background": "light"
          }
        }
      ]
    },
    {
      "cell_type": "markdown",
      "metadata": {
        "id": "IG5tWAy-FCaW"
      },
      "source": [
        "Zooming in..."
      ]
    },
    {
      "cell_type": "code",
      "metadata": {
        "colab": {
          "base_uri": "https://localhost:8080/",
          "height": 501
        },
        "id": "WZ7BoFHy8kTk",
        "outputId": "17b6cbfb-2644-4605-d50e-ad208fd78105"
      },
      "source": [
        "fig,ax = plt.subplots(figsize=(10,8))\n",
        "ax.plot(range(200), cost_history[:200], 'b.')"
      ],
      "execution_count": 9,
      "outputs": [
        {
          "output_type": "execute_result",
          "data": {
            "text/plain": [
              "[<matplotlib.lines.Line2D at 0x7fc9c0d1c310>]"
            ]
          },
          "metadata": {},
          "execution_count": 9
        },
        {
          "output_type": "display_data",
          "data": {
            "image/png": "[encoded data removed]",
            "text/plain": [
              "<Figure size 720x576 with 1 Axes>"
            ]
          },
          "metadata": {
            "needs_background": "light"
          }
        }
      ]
    },
    {
      "cell_type": "markdown",
      "metadata": {
        "id": "JYhOp3fjnh2G"
      },
      "source": [
        "# Stochastic Gradient Descent"
      ]
    },
    {
      "cell_type": "markdown",
      "source": [
        "In Batch Gradient Descent we were considering all the examples for every step of Gradient Descent. But what if our dataset is very huge. Deep learning models crave for data. The more the data the more chances of a model to be good. Suppose our dataset has 5 million examples, then just to take one step the model will have to calculate the gradients of all the 5 million examples. This does not seem an efficient way. To tackle this problem we have Stochastic Gradient Descent. In Stochastic Gradient Descent (SGD), we consider just one example at a time to take a single step."
      ],
      "metadata": {
        "id": "10N2dcwWUctJ"
      }
    },
    {
      "cell_type": "code",
      "metadata": {
        "id": "aVwD7Cqw8m1d"
      },
      "source": [
        "def stocashtic_gradient_descent(X, y, y_pred, learning_rate=0.01, iterations=10):\n",
        "    '''\n",
        "    X = Matrix of X with added bias units\n",
        "    y = Vector of Y\n",
        "    y_pred = Vector of y_pred np.random.randn(j,1)\n",
        "    learning_rate \n",
        "    iterations = no of iterations\n",
        "    \n",
        "    Returns the final y_pred vector and array of cost history over no of iterations\n",
        "    '''\n",
        "\n",
        "    m = len(y)\n",
        "    cost_history = np.zeros(iterations)\n",
        "    \n",
        "    for it in range(iterations):\n",
        "        cost = 0.0\n",
        "        \n",
        "        for i in range(m):\n",
        "            rand_ind = np.random.randint(0,m)\n",
        "            X_i = X[rand_ind, :].reshape(1, X.shape[1])\n",
        "            y_i = y[rand_ind].reshape(1,1)\n",
        "            prediction = np.dot(X_i, y_pred)\n",
        "\n",
        "            y_pred = y_pred - (1 / m) * learning_rate *(X_i.T.dot((prediction - y_i)))\n",
        "            cost += cal_cost(y_pred, X_i, y_i)\n",
        "\n",
        "        cost_history[it]  = cost\n",
        "        \n",
        "    return y_pred, cost_history"
      ],
      "execution_count": 10,
      "outputs": []
    },
    {
      "cell_type": "code",
      "metadata": {
        "colab": {
          "base_uri": "https://localhost:8080/"
        },
        "id": "Yk6pfB5c8tPz",
        "outputId": "57251025-fe26-4eea-ee54-8c82215a6161"
      },
      "source": [
        "lr = 0.5\n",
        "n_iter = 50\n",
        "y_pred = np.random.randn(2, 1)\n",
        "X_b = np.c_[np.ones((len(X), 1)), X]\n",
        "y_pred, cost_history = stocashtic_gradient_descent(X_b, y, y_pred, lr, n_iter)\n",
        "\n",
        "print('y_pred[0]: {:0.3f}\\ny_pred[1]: {:0.3f}'.format(y_pred[0][0], y_pred[1][0]))\n",
        "print('Final error: {:0.3f}'.format(cost_history[-1]))"
      ],
      "execution_count": 11,
      "outputs": [
        {
          "output_type": "stream",
          "name": "stdout",
          "text": [
            "y_pred[0]: 4.121\n",
            "y_pred[1]: 2.755\n",
            "Final error: 41.313\n"
          ]
        }
      ]
    },
    {
      "cell_type": "code",
      "metadata": {
        "colab": {
          "base_uri": "https://localhost:8080/",
          "height": 515
        },
        "id": "YiJUgS7o8u2e",
        "outputId": "5d734dcc-2f68-49bf-c829-855c9c448452"
      },
      "source": [
        "fig, ax = plt.subplots(figsize=(10,8))\n",
        "\n",
        "ax.set_ylabel('Error')\n",
        "ax.set_xlabel('Number of iterations')\n",
        "y_pred = np.random.randn(2,1)\n",
        "\n",
        "ax.plot(range(n_iter), cost_history, 'b.')"
      ],
      "execution_count": 12,
      "outputs": [
        {
          "output_type": "execute_result",
          "data": {
            "text/plain": [
              "[<matplotlib.lines.Line2D at 0x7fc9c0c94710>]"
            ]
          },
          "metadata": {},
          "execution_count": 12
        },
        {
          "output_type": "display_data",
          "data": {
            "image/png": "[encoded data removed]",
            "text/plain": [
              "<Figure size 720x576 with 1 Axes>"
            ]
          },
          "metadata": {
            "needs_background": "light"
          }
        }
      ]
    },
    {
      "cell_type": "markdown",
      "metadata": {
        "id": "ScckWktynk1o"
      },
      "source": [
        "# Mini Batch Gradient Descent"
      ]
    },
    {
      "cell_type": "markdown",
      "source": [
        "We have seen the Batch Gradient Descent. We have also seen the Stochastic Gradient Descent. Batch Gradient Descent can be used for smoother curves. SGD can be used when the dataset is large. Batch Gradient Descent converges directly to minima. SGD converges faster for larger datasets. But, since in SGD we use only one example at a time, we cannot implement the vectorized implementation on it. This can slow down the computations. To tackle this problem, a mixture of Batch Gradient Descent and SGD is used.\n",
        "Neither we use all the dataset all at once nor we use the single example at a time. We use a batch of a fixed number of training examples which is less than the actual dataset and call it a mini-batch. Doing this helps us achieve the advantages of both the former variants we saw."
      ],
      "metadata": {
        "id": "ZTVz-QssUkuE"
      }
    },
    {
      "cell_type": "code",
      "metadata": {
        "id": "4JtxFVL78wEm"
      },
      "source": [
        "def minibatch_gradient_descent(X, y, y_pred, learning_rate=0.01, iterations=10, batch_size=20):\n",
        "    '''\n",
        "    X = Matrix of X without added bias units\n",
        "    y = Vector of Y\n",
        "    y_pred = Vector of y_preds np.random.randn(j, 1)\n",
        "    learning_rate \n",
        "    iterations = no of iterations\n",
        "    \n",
        "    Returns the final theta vector and array of cost history over no of iterations\n",
        "    '''\n",
        "\n",
        "    m = len(y)\n",
        "    cost_history = np.zeros(iterations)\n",
        "    n_batches = int(m / batch_size)\n",
        "    \n",
        "    for it in range(iterations):\n",
        "        cost = 0.0\n",
        "        indices = np.random.permutation(m)\n",
        "        X = X[indices]\n",
        "        y = y[indices]\n",
        "\n",
        "        for i in range(0, m, batch_size):\n",
        "            X_i = X[i: i + batch_size]\n",
        "            y_i = y[i: i + batch_size]\n",
        "            \n",
        "            X_i = np.c_[np.ones(len(X_i)), X_i]\n",
        "            prediction = np.dot(X_i, y_pred)\n",
        "\n",
        "            y_pred = y_pred - (1 / m) * learning_rate * (X_i.T.dot((prediction - y_i)))\n",
        "            cost += cal_cost(y_pred, X_i, y_i)\n",
        "\n",
        "        cost_history[it]  = cost\n",
        "        \n",
        "    return y_pred, cost_history"
      ],
      "execution_count": 13,
      "outputs": []
    },
    {
      "cell_type": "code",
      "metadata": {
        "colab": {
          "base_uri": "https://localhost:8080/"
        },
        "id": "SpbsVwA28znL",
        "outputId": "03c4eb96-8b54-46a9-afbe-1278ebe0425b"
      },
      "source": [
        "lr = 0.1\n",
        "n_iter = 200\n",
        "y_pred = np.random.randn(2,1)\n",
        "y_pred, cost_history = minibatch_gradient_descent(X, y, y_pred, lr, n_iter)\n",
        "\n",
        "print('y_pred[0]: {:0.3f}\\ny_pred[1]: {:0.3f}'.format(y_pred[0][0], y_pred[1][0]))\n",
        "print('Final error: {:0.3f}'.format(cost_history[-1]))"
      ],
      "execution_count": 14,
      "outputs": [
        {
          "output_type": "stream",
          "name": "stdout",
          "text": [
            "y_pred[0]: 4.148\n",
            "y_pred[1]: 2.827\n",
            "Final error: 807.488\n"
          ]
        }
      ]
    },
    {
      "cell_type": "code",
      "metadata": {
        "colab": {
          "base_uri": "https://localhost:8080/",
          "height": 515
        },
        "id": "Q_ivOYHT817C",
        "outputId": "41fdd24e-4ad7-421e-b962-b18df64a07b1"
      },
      "source": [
        "fig, ax = plt.subplots(figsize=(10,8))\n",
        "\n",
        "ax.set_ylabel('Error')\n",
        "ax.set_xlabel('Number of iterations')\n",
        "y_pred = np.random.randn(2,1)\n",
        "\n",
        "ax.plot(range(n_iter), cost_history, 'b.')"
      ],
      "execution_count": 15,
      "outputs": [
        {
          "output_type": "execute_result",
          "data": {
            "text/plain": [
              "[<matplotlib.lines.Line2D at 0x7fc9c0c03510>]"
            ]
          },
          "metadata": {},
          "execution_count": 15
        },
        {
          "output_type": "display_data",
          "data": {
            "image/png": "[encoded data removed]",
            "text/plain": [
              "<Figure size 720x576 with 1 Axes>"
            ]
          },
          "metadata": {
            "needs_background": "light"
          }
        }
      ]
    },
    {
      "cell_type": "code",
      "metadata": {
        "id": "3Sn1erIU83ck"
      },
      "source": [
        ""
      ],
      "execution_count": 15,
      "outputs": []
    },
    {
      "cell_type": "markdown",
      "source": [
        "Things to try out:\n",
        "\n",
        "1. Change batch size in mini-batch gradient descent.\n",
        "2. Test all the three out on real datasets.\n",
        "3. Compare the effects of changing learning rate by the same amount in Batch GD, SGD and Mini-batch GD."
      ],
      "metadata": {
        "id": "0neTARjKUoP4"
      }
    },
    {
      "cell_type": "markdown",
      "source": [
        "Changing the batch size to 40 in mini batch gradient descent"
      ],
      "metadata": {
        "id": "X4Y1B8gJk-6G"
      }
    },
    {
      "cell_type": "code",
      "source": [
        "def minibatch_gradient_descent(X, y, y_pred, learning_rate=0.01, iterations=10, batch_size=40):\n",
        "    '''\n",
        "    X = Matrix of X without added bias units\n",
        "    y = Vector of Y\n",
        "    y_pred = Vector of y_preds np.random.randn(j, 1)\n",
        "    learning_rate \n",
        "    iterations = no of iterations\n",
        "    \n",
        "    Returns the final theta vector and array of cost history over no of iterations\n",
        "    '''\n",
        "\n",
        "    m = len(y)\n",
        "    cost_history = np.zeros(iterations)\n",
        "    n_batches = int(m / batch_size)\n",
        "    \n",
        "    for it in range(iterations):\n",
        "        cost = 0.0\n",
        "        indices = np.random.permutation(m)\n",
        "        X = X[indices]\n",
        "        y = y[indices]\n",
        "\n",
        "        for i in range(0, m, batch_size):\n",
        "            X_i = X[i: i + batch_size]\n",
        "            y_i = y[i: i + batch_size]\n",
        "            \n",
        "            X_i = np.c_[np.ones(len(X_i)), X_i]\n",
        "            prediction = np.dot(X_i, y_pred)\n",
        "\n",
        "            y_pred = y_pred - (1 / m) * learning_rate * (X_i.T.dot((prediction - y_i)))\n",
        "            cost += cal_cost(y_pred, X_i, y_i)\n",
        "\n",
        "        cost_history[it]  = cost\n",
        "        \n",
        "    return y_pred, cost_history"
      ],
      "metadata": {
        "id": "hV5UHRjwkqLS"
      },
      "execution_count": 16,
      "outputs": []
    },
    {
      "cell_type": "code",
      "source": [
        "lr = 0.1\n",
        "n_iter = 200\n",
        "y_pred = np.random.randn(2,1)\n",
        "y_pred, cost_history = minibatch_gradient_descent(X, y, y_pred, lr, n_iter)\n",
        "\n",
        "print('y_pred[0]: {:0.3f}\\ny_pred[1]: {:0.3f}'.format(y_pred[0][0], y_pred[1][0]))\n",
        "print('Final error: {:0.3f}'.format(cost_history[-1]))"
      ],
      "metadata": {
        "colab": {
          "base_uri": "https://localhost:8080/"
        },
        "id": "OKpb6r5Ik3rm",
        "outputId": "d77211e4-7b04-45ed-c802-c5be212494ea"
      },
      "execution_count": 17,
      "outputs": [
        {
          "output_type": "stream",
          "name": "stdout",
          "text": [
            "y_pred[0]: 4.248\n",
            "y_pred[1]: 2.741\n",
            "Final error: 1454.862\n"
          ]
        }
      ]
    },
    {
      "cell_type": "code",
      "source": [
        "fig, ax = plt.subplots(figsize=(10,8))\n",
        "\n",
        "ax.set_ylabel('Error')\n",
        "ax.set_xlabel('Number of iterations')\n",
        "y_pred = np.random.randn(2,1)\n",
        "\n",
        "ax.plot(range(n_iter), cost_history, 'b.')"
      ],
      "metadata": {
        "colab": {
          "base_uri": "https://localhost:8080/",
          "height": 515
        },
        "id": "iq-XFyUKk7_5",
        "outputId": "98385d71-8d12-4925-bfa1-bd26554cd441"
      },
      "execution_count": 18,
      "outputs": [
        {
          "output_type": "execute_result",
          "data": {
            "text/plain": [
              "[<matplotlib.lines.Line2D at 0x7fc9c0b7b710>]"
            ]
          },
          "metadata": {},
          "execution_count": 18
        },
        {
          "output_type": "display_data",
          "data": {
            "image/png": "[encoded data removed]",
            "text/plain": [
              "<Figure size 720x576 with 1 Axes>"
            ]
          },
          "metadata": {
            "needs_background": "light"
          }
        }
      ]
    },
    {
      "cell_type": "markdown",
      "source": [
        "Changing the learning rate in Mini batch gradient descent"
      ],
      "metadata": {
        "id": "eZTxrSjrlZV3"
      }
    },
    {
      "cell_type": "code",
      "source": [
        "lr = 0.01\n",
        "n_iter = 200\n",
        "y_pred = np.random.randn(2,1)\n",
        "y_pred, cost_history = minibatch_gradient_descent(X, y, y_pred, lr, n_iter)\n",
        "\n",
        "print('y_pred[0]: {:0.3f}\\ny_pred[1]: {:0.3f}'.format(y_pred[0][0], y_pred[1][0]))\n",
        "print('Final error: {:0.3f}'.format(cost_history[-1]))"
      ],
      "metadata": {
        "colab": {
          "base_uri": "https://localhost:8080/"
        },
        "id": "gJBIStONliST",
        "outputId": "16279136-d41e-468c-f15a-5e72d8f50141"
      },
      "execution_count": 19,
      "outputs": [
        {
          "output_type": "stream",
          "name": "stdout",
          "text": [
            "y_pred[0]: 2.972\n",
            "y_pred[1]: 3.764\n",
            "Final error: 2218.024\n"
          ]
        }
      ]
    },
    {
      "cell_type": "code",
      "source": [
        "fig, ax = plt.subplots(figsize=(10,8))\n",
        "\n",
        "ax.set_ylabel('Error')\n",
        "ax.set_xlabel('Number of iterations')\n",
        "y_pred = np.random.randn(2,1)\n",
        "\n",
        "ax.plot(range(n_iter), cost_history, 'b.')"
      ],
      "metadata": {
        "colab": {
          "base_uri": "https://localhost:8080/",
          "height": 515
        },
        "id": "DFHAqFxLlpKd",
        "outputId": "21b38201-b84d-4e1e-b762-8db9fd9c1110"
      },
      "execution_count": 20,
      "outputs": [
        {
          "output_type": "execute_result",
          "data": {
            "text/plain": [
              "[<matplotlib.lines.Line2D at 0x7fc9c0af0050>]"
            ]
          },
          "metadata": {},
          "execution_count": 20
        },
        {
          "output_type": "display_data",
          "data": {
            "image/png": "[encoded data removed]",
            "text/plain": [
              "<Figure size 720x576 with 1 Axes>"
            ]
          },
          "metadata": {
            "needs_background": "light"
          }
        }
      ]
    },
    {
      "cell_type": "markdown",
      "source": [
        "Changing the learning rate in stochastic gradient descent"
      ],
      "metadata": {
        "id": "FS9ScZLomJmO"
      }
    },
    {
      "cell_type": "code",
      "source": [
        "lr = 0.1\n",
        "n_iter = 50\n",
        "y_pred = np.random.randn(2, 1)\n",
        "X_b = np.c_[np.ones((len(X), 1)), X]\n",
        "y_pred, cost_history = stocashtic_gradient_descent(X_b, y, y_pred, lr, n_iter)\n",
        "\n",
        "print('y_pred[0]: {:0.3f}\\ny_pred[1]: {:0.3f}'.format(y_pred[0][0], y_pred[1][0]))\n",
        "print('Final error: {:0.3f}'.format(cost_history[-1]))"
      ],
      "metadata": {
        "colab": {
          "base_uri": "https://localhost:8080/"
        },
        "id": "MKafiCiCl1-u",
        "outputId": "4a5346f4-e9a4-418c-b751-23c5ead73765"
      },
      "execution_count": 21,
      "outputs": [
        {
          "output_type": "stream",
          "name": "stdout",
          "text": [
            "y_pred[0]: 3.781\n",
            "y_pred[1]: 3.136\n",
            "Final error: 44.324\n"
          ]
        }
      ]
    },
    {
      "cell_type": "code",
      "source": [
        "fig, ax = plt.subplots(figsize=(10,8))\n",
        "\n",
        "ax.set_ylabel('Error')\n",
        "ax.set_xlabel('Number of iterations')\n",
        "y_pred = np.random.randn(2,1)\n",
        "\n",
        "ax.plot(range(n_iter), cost_history, 'b.')"
      ],
      "metadata": {
        "colab": {
          "base_uri": "https://localhost:8080/",
          "height": 515
        },
        "id": "NIHk4-POl_dO",
        "outputId": "e3b66955-1c21-4f3b-abd2-537d903f9c4e"
      },
      "execution_count": 22,
      "outputs": [
        {
          "output_type": "execute_result",
          "data": {
            "text/plain": [
              "[<matplotlib.lines.Line2D at 0x7fc9c124c6d0>]"
            ]
          },
          "metadata": {},
          "execution_count": 22
        },
        {
          "output_type": "display_data",
          "data": {
            "image/png": "[encoded data removed]",
            "text/plain": [
              "<Figure size 720x576 with 1 Axes>"
            ]
          },
          "metadata": {
            "needs_background": "light"
          }
        }
      ]
    },
    {
      "cell_type": "markdown",
      "source": [
        "Changing the learning rate in gradient descent"
      ],
      "metadata": {
        "id": "nZV1xH81mUxv"
      }
    },
    {
      "cell_type": "code",
      "source": [
        "lr = 0.1\n",
        "n_iter = 1000\n",
        "\n",
        "y_pred = np.random.randn(2,1)\n",
        "X_b = np.c_[np.ones((len(X), 1)), X]\n",
        "y_pred, cost_history, y_pred_history = gradient_descent(X_b, y, y_pred, lr, n_iter)\n",
        "\n",
        "print('y_pred[0]: {:0.3f}\\ny_pred[1]: {:0.3f}'.format(y_pred[0][0], y_pred[1][0]))\n",
        "print('Final error: {:0.3f}'.format(cost_history[-1]))"
      ],
      "metadata": {
        "colab": {
          "base_uri": "https://localhost:8080/"
        },
        "id": "L9ZJkrSpmYMu",
        "outputId": "8ee369d2-4feb-4048-f3a3-8089ce0a076c"
      },
      "execution_count": 23,
      "outputs": [
        {
          "output_type": "stream",
          "name": "stdout",
          "text": [
            "y_pred[0]: 4.215\n",
            "y_pred[1]: 2.770\n",
            "Final error: 4032.923\n"
          ]
        }
      ]
    },
    {
      "cell_type": "code",
      "source": [
        "fig, ax = plt.subplots(figsize=(12,8))\n",
        "\n",
        "ax.set_ylabel('Error')\n",
        "ax.set_xlabel('Number of iterations')\n",
        "\n",
        "ax.plot(range(n_iter), cost_history, 'b.')"
      ],
      "metadata": {
        "colab": {
          "base_uri": "https://localhost:8080/",
          "height": 515
        },
        "id": "FKpThNfwmglj",
        "outputId": "452ee0a0-1794-45c1-ad25-32ccb3e05ad3"
      },
      "execution_count": 24,
      "outputs": [
        {
          "output_type": "execute_result",
          "data": {
            "text/plain": [
              "[<matplotlib.lines.Line2D at 0x7fc9c0d4eb50>]"
            ]
          },
          "metadata": {},
          "execution_count": 24
        },
        {
          "output_type": "display_data",
          "data": {
            "image/png": "[encoded data removed]",
            "text/plain": [
              "<Figure size 864x576 with 1 Axes>"
            ]
          },
          "metadata": {
            "needs_background": "light"
          }
        }
      ]
    },
    {
      "cell_type": "markdown",
      "source": [
        "Using SGD in real dataset"
      ],
      "metadata": {
        "id": "M7voelr-p0Mi"
      }
    },
    {
      "cell_type": "code",
      "source": [
        "import warnings\n",
        "warnings.filterwarnings(\"ignore\")\n",
        "from sklearn.datasets import load_boston\n",
        "from random import seed\n",
        "from random import randrange\n",
        "from csv import reader\n",
        "from math import sqrt\n",
        "from sklearn import preprocessing\n",
        "import pandas as pd\n",
        "import numpy as np\n",
        "import matplotlib.pyplot as plt\n",
        "from prettytable import PrettyTable\n",
        "from sklearn.linear_model import SGDRegressor\n",
        "from sklearn import preprocessing\n",
        "from sklearn.metrics import mean_squared_error\n",
        "from sklearn.model_selection import train_test_split"
      ],
      "metadata": {
        "id": "sSpb2bZene6v"
      },
      "execution_count": 25,
      "outputs": []
    },
    {
      "cell_type": "code",
      "source": [
        "X = load_boston().data\n",
        "Y = load_boston().target"
      ],
      "metadata": {
        "id": "7zb2fIgsnjOa"
      },
      "execution_count": 26,
      "outputs": []
    },
    {
      "cell_type": "code",
      "source": [
        "X_train, X_test, y_train, y_test = train_test_split(X, Y, test_size=0.3, random_state=0)"
      ],
      "metadata": {
        "id": "gTEHdWFAnnCQ"
      },
      "execution_count": 27,
      "outputs": []
    },
    {
      "cell_type": "code",
      "source": [
        "scaler = preprocessing.StandardScaler()\n",
        "X_train = scaler.fit_transform(X_train)\n",
        "X_test = scaler.transform(X_test)"
      ],
      "metadata": {
        "id": "q1in1E-ZntZ-"
      },
      "execution_count": 28,
      "outputs": []
    },
    {
      "cell_type": "code",
      "source": [
        "X_train = pd.DataFrame(data = X_train, columns=load_boston().feature_names)\n",
        "X_train['Price'] = list(y_train)  \n",
        "X_test = pd.DataFrame(data = X_test, columns=load_boston().feature_names)\n",
        "X_test['Price'] = list(y_test)"
      ],
      "metadata": {
        "id": "fODNEWxsnxDH"
      },
      "execution_count": 29,
      "outputs": []
    },
    {
      "cell_type": "code",
      "source": [
        "X_train.head()"
      ],
      "metadata": {
        "colab": {
          "base_uri": "https://localhost:8080/",
          "height": 250
        },
        "id": "CRhnFEKDn1kX",
        "outputId": "117f8085-d442-4cf9-c955-3b9127f5b734"
      },
      "execution_count": 30,
      "outputs": [
        {
          "output_type": "execute_result",
          "data": {
            "text/html": [
              "\n",
              "  <div id=\"df-9b635cd7-1bac-4c8e-a143-1cea1d61cbdc\">\n",
              "    <div class=\"colab-df-container\">\n",
              "      <div>\n",
              "<style scoped>\n",
              "    .dataframe tbody tr th:only-of-type {\n",
              "        vertical-align: middle;\n",
              "    }\n",
              "\n",
              "    .dataframe tbody tr th {\n",
              "        vertical-align: top;\n",
              "    }\n",
              "\n",
              "    .dataframe thead th {\n",
              "        text-align: right;\n",
              "    }\n",
              "</style>\n",
              "<table border=\"1\" class=\"dataframe\">\n",
              "  <thead>\n",
              "    <tr style=\"text-align: right;\">\n",
              "      <th></th>\n",
              "      <th>CRIM</th>\n",
              "      <th>ZN</th>\n",
              "      <th>INDUS</th>\n",
              "      <th>CHAS</th>\n",
              "      <th>NOX</th>\n",
              "      <th>RM</th>\n",
              "      <th>AGE</th>\n",
              "      <th>DIS</th>\n",
              "      <th>RAD</th>\n",
              "      <th>TAX</th>\n",
              "      <th>PTRATIO</th>\n",
              "      <th>B</th>\n",
              "      <th>LSTAT</th>\n",
              "      <th>Price</th>\n",
              "    </tr>\n",
              "  </thead>\n",
              "  <tbody>\n",
              "    <tr>\n",
              "      <th>0</th>\n",
              "      <td>-0.207356</td>\n",
              "      <td>-0.499979</td>\n",
              "      <td>1.548016</td>\n",
              "      <td>-0.263603</td>\n",
              "      <td>0.588213</td>\n",
              "      <td>-1.839367</td>\n",
              "      <td>1.107402</td>\n",
              "      <td>-1.125110</td>\n",
              "      <td>-0.618160</td>\n",
              "      <td>0.206735</td>\n",
              "      <td>1.227257</td>\n",
              "      <td>0.424543</td>\n",
              "      <td>3.108073</td>\n",
              "      <td>14.4</td>\n",
              "    </tr>\n",
              "    <tr>\n",
              "      <th>1</th>\n",
              "      <td>-0.388865</td>\n",
              "      <td>0.346774</td>\n",
              "      <td>-0.589747</td>\n",
              "      <td>-0.263603</td>\n",
              "      <td>-0.797821</td>\n",
              "      <td>0.327487</td>\n",
              "      <td>-0.367661</td>\n",
              "      <td>0.075090</td>\n",
              "      <td>-0.733637</td>\n",
              "      <td>-1.049493</td>\n",
              "      <td>0.056963</td>\n",
              "      <td>0.401853</td>\n",
              "      <td>-0.666430</td>\n",
              "      <td>24.4</td>\n",
              "    </tr>\n",
              "    <tr>\n",
              "      <th>2</th>\n",
              "      <td>-0.335735</td>\n",
              "      <td>-0.499979</td>\n",
              "      <td>1.548016</td>\n",
              "      <td>-0.263603</td>\n",
              "      <td>0.588213</td>\n",
              "      <td>0.037907</td>\n",
              "      <td>1.043114</td>\n",
              "      <td>-0.799984</td>\n",
              "      <td>-0.618160</td>\n",
              "      <td>0.206735</td>\n",
              "      <td>1.227257</td>\n",
              "      <td>0.398461</td>\n",
              "      <td>0.639367</td>\n",
              "      <td>18.1</td>\n",
              "    </tr>\n",
              "    <tr>\n",
              "      <th>3</th>\n",
              "      <td>-0.394852</td>\n",
              "      <td>2.463658</td>\n",
              "      <td>-1.265584</td>\n",
              "      <td>-0.263603</td>\n",
              "      <td>-1.352235</td>\n",
              "      <td>0.052172</td>\n",
              "      <td>-1.746292</td>\n",
              "      <td>1.968937</td>\n",
              "      <td>-0.502683</td>\n",
              "      <td>-0.257013</td>\n",
              "      <td>-1.653466</td>\n",
              "      <td>0.089342</td>\n",
              "      <td>-1.056896</td>\n",
              "      <td>22.5</td>\n",
              "    </tr>\n",
              "    <tr>\n",
              "      <th>4</th>\n",
              "      <td>-0.391456</td>\n",
              "      <td>-0.499979</td>\n",
              "      <td>2.086394</td>\n",
              "      <td>-0.263603</td>\n",
              "      <td>0.215716</td>\n",
              "      <td>-0.495604</td>\n",
              "      <td>0.853820</td>\n",
              "      <td>-0.811511</td>\n",
              "      <td>-0.849114</td>\n",
              "      <td>-1.254951</td>\n",
              "      <td>0.282020</td>\n",
              "      <td>0.204545</td>\n",
              "      <td>0.776596</td>\n",
              "      <td>20.5</td>\n",
              "    </tr>\n",
              "  </tbody>\n",
              "</table>\n",
              "</div>\n",
              "      <button class=\"colab-df-convert\" onclick=\"convertToInteractive('df-9b635cd7-1bac-4c8e-a143-1cea1d61cbdc')\"\n",
              "              title=\"Convert this dataframe to an interactive table.\"\n",
              "              style=\"display:none;\">\n",
              "        \n",
              "  <svg xmlns=\"http://www.w3.org/2000/svg\" height=\"24px\"viewBox=\"0 0 24 24\"\n",
              "       width=\"24px\">\n",
              "    <path d=\"M0 0h24v24H0V0z\" fill=\"none\"/>\n",
              "    <path d=\"M18.56 5.44l.94 2.06.94-2.06 2.06-.94-2.06-.94-.94-2.06-.94 2.06-2.06.94zm-11 1L8.5 8.5l.94-2.06 2.06-.94-2.06-.94L8.5 2.5l-.94 2.06-2.06.94zm10 10l.94 2.06.94-2.06 2.06-.94-2.06-.94-.94-2.06-.94 2.06-2.06.94z\"/><path d=\"M17.41 7.96l-1.37-1.37c-.4-.4-.92-.59-1.43-.59-.52 0-1.04.2-1.43.59L10.3 9.45l-7.72 7.72c-.78.78-.78 2.05 0 2.83L4 21.41c.39.39.9.59 1.41.59.51 0 1.02-.2 1.41-.59l7.78-7.78 2.81-2.81c.8-.78.8-2.07 0-2.86zM5.41 20L4 18.59l7.72-7.72 1.47 1.35L5.41 20z\"/>\n",
              "  </svg>\n",
              "      </button>\n",
              "      \n",
              "  <style>\n",
              "    .colab-df-container {\n",
              "      display:flex;\n",
              "      flex-wrap:wrap;\n",
              "      gap: 12px;\n",
              "    }\n",
              "\n",
              "    .colab-df-convert {\n",
              "      background-color: #E8F0FE;\n",
              "      border: none;\n",
              "      border-radius: 50%;\n",
              "      cursor: pointer;\n",
              "      display: none;\n",
              "      fill: #1967D2;\n",
              "      height: 32px;\n",
              "      padding: 0 0 0 0;\n",
              "      width: 32px;\n",
              "    }\n",
              "\n",
              "    .colab-df-convert:hover {\n",
              "      background-color: #E2EBFA;\n",
              "      box-shadow: 0px 1px 2px rgba(60, 64, 67, 0.3), 0px 1px 3px 1px rgba(60, 64, 67, 0.15);\n",
              "      fill: #174EA6;\n",
              "    }\n",
              "\n",
              "    [theme=dark] .colab-df-convert {\n",
              "      background-color: #3B4455;\n",
              "      fill: #D2E3FC;\n",
              "    }\n",
              "\n",
              "    [theme=dark] .colab-df-convert:hover {\n",
              "      background-color: #434B5C;\n",
              "      box-shadow: 0px 1px 3px 1px rgba(0, 0, 0, 0.15);\n",
              "      filter: drop-shadow(0px 1px 2px rgba(0, 0, 0, 0.3));\n",
              "      fill: #FFFFFF;\n",
              "    }\n",
              "  </style>\n",
              "\n",
              "      <script>\n",
              "        const buttonEl =\n",
              "          document.querySelector('#df-9b635cd7-1bac-4c8e-a143-1cea1d61cbdc button.colab-df-convert');\n",
              "        buttonEl.style.display =\n",
              "          google.colab.kernel.accessAllowed ? 'block' : 'none';\n",
              "\n",
              "        async function convertToInteractive(key) {\n",
              "          const element = document.querySelector('#df-9b635cd7-1bac-4c8e-a143-1cea1d61cbdc');\n",
              "          const dataTable =\n",
              "            await google.colab.kernel.invokeFunction('convertToInteractive',\n",
              "                                                     [key], {});\n",
              "          if (!dataTable) return;\n",
              "\n",
              "          const docLinkHtml = 'Like what you see? Visit the ' +\n",
              "            '<a target=\"_blank\" href=https://colab.research.google.com/notebooks/data_table.ipynb>data table notebook</a>'\n",
              "            + ' to learn more about interactive tables.';\n",
              "          element.innerHTML = '';\n",
              "          dataTable['output_type'] = 'display_data';\n",
              "          await google.colab.output.renderOutput(dataTable, element);\n",
              "          const docLink = document.createElement('div');\n",
              "          docLink.innerHTML = docLinkHtml;\n",
              "          element.appendChild(docLink);\n",
              "        }\n",
              "      </script>\n",
              "    </div>\n",
              "  </div>\n",
              "  "
            ],
            "text/plain": [
              "       CRIM        ZN     INDUS      CHAS  ...   PTRATIO         B     LSTAT  Price\n",
              "0 -0.207356 -0.499979  1.548016 -0.263603  ...  1.227257  0.424543  3.108073   14.4\n",
              "1 -0.388865  0.346774 -0.589747 -0.263603  ...  0.056963  0.401853 -0.666430   24.4\n",
              "2 -0.335735 -0.499979  1.548016 -0.263603  ...  1.227257  0.398461  0.639367   18.1\n",
              "3 -0.394852  2.463658 -1.265584 -0.263603  ... -1.653466  0.089342 -1.056896   22.5\n",
              "4 -0.391456 -0.499979  2.086394 -0.263603  ...  0.282020  0.204545  0.776596   20.5\n",
              "\n",
              "[5 rows x 14 columns]"
            ]
          },
          "metadata": {},
          "execution_count": 30
        }
      ]
    },
    {
      "cell_type": "code",
      "source": [
        "def sgd_regressor(X, y, learning_rate=0.2, n_epochs=1000, k=40):    \n",
        "    w = np.random.randn(1,13)  # Randomly initializing weights\n",
        "    b = np.random.randn(1,1)   # Random intercept value    \n",
        "    epoch=1    \n",
        "    while epoch <= n_epochs:\n",
        "        temp = X.sample(k)\n",
        "        X_tr = temp.iloc[:,0:13].values\n",
        "        y_tr = temp.iloc[:,-1].values        \n",
        "        Lw = w\n",
        "        Lb = b        \n",
        "        loss = 0\n",
        "        y_pred = []\n",
        "        sq_loss = []        \n",
        "        for i in range(k):              \n",
        "            Lw = (-2/k * X_tr[i]) * (y_tr[i] - np.dot(X_tr[i],w.T) - b)\n",
        "            Lb = (-2/k) * (y_tr[i] - np.dot(X_tr[i],w.T) - b)\n",
        "            \n",
        "            w = w - learning_rate * Lw\n",
        "            b = b - learning_rate * Lb\n",
        "            \n",
        "            y_predicted = np.dot(X_tr[i],w.T)\n",
        "            y_pred.append(y_predicted)\n",
        "        \n",
        "        loss = mean_squared_error(y_pred, y_tr)            \n",
        "        print(\"Epoch: %d, Loss: %.3f\" %(epoch, loss))\n",
        "        epoch+=1\n",
        "        learning_rate = learning_rate/1.02        \n",
        "    return w,b"
      ],
      "metadata": {
        "id": "7D0Oa5BMn_-I"
      },
      "execution_count": 31,
      "outputs": []
    },
    {
      "cell_type": "code",
      "source": [
        "def predict(x,w,b):\n",
        "    y_pred=[]\n",
        "    for i in range(len(x)):\n",
        "        temp_ = x\n",
        "        X_test = temp_.iloc[:,0:13].values\n",
        "        y = np.asscalar(np.dot(w,X_test[i])+b)\n",
        "        y_pred.append(y)\n",
        "    return np.array(y_pred)\n",
        "w,b = sgd_regressor(X_train,y_train)\n",
        "y_pred_customsgd = predict(X_test,w,b)"
      ],
      "metadata": {
        "colab": {
          "base_uri": "https://localhost:8080/"
        },
        "id": "UaygKNyLoNZB",
        "outputId": "abac102a-728d-4e5f-bfed-89eaca3bdd80"
      },
      "execution_count": 32,
      "outputs": [
        {
          "output_type": "stream",
          "name": "stdout",
          "text": [
            "Epoch: 1, Loss: 492.662\n",
            "Epoch: 2, Loss: 455.890\n",
            "Epoch: 3, Loss: 486.067\n",
            "Epoch: 4, Loss: 508.629\n",
            "Epoch: 5, Loss: 506.894\n",
            "Epoch: 6, Loss: 496.612\n",
            "Epoch: 7, Loss: 495.063\n",
            "Epoch: 8, Loss: 500.726\n",
            "Epoch: 9, Loss: 535.714\n",
            "Epoch: 10, Loss: 550.173\n",
            "Epoch: 11, Loss: 512.278\n",
            "Epoch: 12, Loss: 549.714\n",
            "Epoch: 13, Loss: 507.826\n",
            "Epoch: 14, Loss: 500.189\n",
            "Epoch: 15, Loss: 510.017\n",
            "Epoch: 16, Loss: 513.988\n",
            "Epoch: 17, Loss: 498.737\n",
            "Epoch: 18, Loss: 502.123\n",
            "Epoch: 19, Loss: 517.572\n",
            "Epoch: 20, Loss: 545.886\n",
            "Epoch: 21, Loss: 597.158\n",
            "Epoch: 22, Loss: 525.679\n",
            "Epoch: 23, Loss: 565.145\n",
            "Epoch: 24, Loss: 546.571\n",
            "Epoch: 25, Loss: 542.070\n",
            "Epoch: 26, Loss: 448.094\n",
            "Epoch: 27, Loss: 580.999\n",
            "Epoch: 28, Loss: 520.766\n",
            "Epoch: 29, Loss: 519.645\n",
            "Epoch: 30, Loss: 587.007\n",
            "Epoch: 31, Loss: 491.931\n",
            "Epoch: 32, Loss: 505.786\n",
            "Epoch: 33, Loss: 533.806\n",
            "Epoch: 34, Loss: 487.815\n",
            "Epoch: 35, Loss: 546.211\n",
            "Epoch: 36, Loss: 551.648\n",
            "Epoch: 37, Loss: 544.417\n",
            "Epoch: 38, Loss: 505.115\n",
            "Epoch: 39, Loss: 522.824\n",
            "Epoch: 40, Loss: 551.818\n",
            "Epoch: 41, Loss: 536.221\n",
            "Epoch: 42, Loss: 490.290\n",
            "Epoch: 43, Loss: 469.926\n",
            "Epoch: 44, Loss: 508.494\n",
            "Epoch: 45, Loss: 540.713\n",
            "Epoch: 46, Loss: 497.721\n",
            "Epoch: 47, Loss: 533.338\n",
            "Epoch: 48, Loss: 491.002\n",
            "Epoch: 49, Loss: 468.487\n",
            "Epoch: 50, Loss: 552.089\n",
            "Epoch: 51, Loss: 613.418\n",
            "Epoch: 52, Loss: 564.133\n",
            "Epoch: 53, Loss: 489.119\n",
            "Epoch: 54, Loss: 580.947\n",
            "Epoch: 55, Loss: 551.485\n",
            "Epoch: 56, Loss: 496.031\n",
            "Epoch: 57, Loss: 568.569\n",
            "Epoch: 58, Loss: 547.003\n",
            "Epoch: 59, Loss: 510.422\n",
            "Epoch: 60, Loss: 562.111\n",
            "Epoch: 61, Loss: 529.986\n",
            "Epoch: 62, Loss: 561.061\n",
            "Epoch: 63, Loss: 525.889\n",
            "Epoch: 64, Loss: 547.665\n",
            "Epoch: 65, Loss: 519.991\n",
            "Epoch: 66, Loss: 467.433\n",
            "Epoch: 67, Loss: 538.096\n",
            "Epoch: 68, Loss: 536.791\n",
            "Epoch: 69, Loss: 519.513\n",
            "Epoch: 70, Loss: 491.301\n",
            "Epoch: 71, Loss: 661.293\n",
            "Epoch: 72, Loss: 541.122\n",
            "Epoch: 73, Loss: 549.753\n",
            "Epoch: 74, Loss: 548.170\n",
            "Epoch: 75, Loss: 549.875\n",
            "Epoch: 76, Loss: 578.702\n",
            "Epoch: 77, Loss: 549.319\n",
            "Epoch: 78, Loss: 501.420\n",
            "Epoch: 79, Loss: 526.173\n",
            "Epoch: 80, Loss: 512.092\n",
            "Epoch: 81, Loss: 508.363\n",
            "Epoch: 82, Loss: 528.660\n",
            "Epoch: 83, Loss: 501.889\n",
            "Epoch: 84, Loss: 566.241\n",
            "Epoch: 85, Loss: 583.600\n",
            "Epoch: 86, Loss: 464.390\n",
            "Epoch: 87, Loss: 531.961\n",
            "Epoch: 88, Loss: 562.905\n",
            "Epoch: 89, Loss: 502.075\n",
            "Epoch: 90, Loss: 524.195\n",
            "Epoch: 91, Loss: 467.761\n",
            "Epoch: 92, Loss: 556.429\n",
            "Epoch: 93, Loss: 538.350\n",
            "Epoch: 94, Loss: 513.809\n",
            "Epoch: 95, Loss: 479.029\n",
            "Epoch: 96, Loss: 625.441\n",
            "Epoch: 97, Loss: 521.759\n",
            "Epoch: 98, Loss: 512.217\n",
            "Epoch: 99, Loss: 558.374\n",
            "Epoch: 100, Loss: 533.467\n",
            "Epoch: 101, Loss: 547.673\n",
            "Epoch: 102, Loss: 515.497\n",
            "Epoch: 103, Loss: 579.614\n",
            "Epoch: 104, Loss: 594.628\n",
            "Epoch: 105, Loss: 506.746\n",
            "Epoch: 106, Loss: 533.386\n",
            "Epoch: 107, Loss: 525.793\n",
            "Epoch: 108, Loss: 557.640\n",
            "Epoch: 109, Loss: 535.743\n",
            "Epoch: 110, Loss: 569.128\n",
            "Epoch: 111, Loss: 558.273\n",
            "Epoch: 112, Loss: 487.297\n",
            "Epoch: 113, Loss: 568.976\n",
            "Epoch: 114, Loss: 552.402\n",
            "Epoch: 115, Loss: 522.025\n",
            "Epoch: 116, Loss: 474.823\n",
            "Epoch: 117, Loss: 545.278\n",
            "Epoch: 118, Loss: 506.578\n",
            "Epoch: 119, Loss: 567.955\n",
            "Epoch: 120, Loss: 496.342\n",
            "Epoch: 121, Loss: 540.668\n",
            "Epoch: 122, Loss: 563.712\n",
            "Epoch: 123, Loss: 462.090\n",
            "Epoch: 124, Loss: 560.456\n",
            "Epoch: 125, Loss: 537.758\n",
            "Epoch: 126, Loss: 590.611\n",
            "Epoch: 127, Loss: 630.845\n",
            "Epoch: 128, Loss: 527.607\n",
            "Epoch: 129, Loss: 529.921\n",
            "Epoch: 130, Loss: 512.878\n",
            "Epoch: 131, Loss: 527.063\n",
            "Epoch: 132, Loss: 554.674\n",
            "Epoch: 133, Loss: 532.749\n",
            "Epoch: 134, Loss: 597.060\n",
            "Epoch: 135, Loss: 533.524\n",
            "Epoch: 136, Loss: 520.525\n",
            "Epoch: 137, Loss: 499.061\n",
            "Epoch: 138, Loss: 539.831\n",
            "Epoch: 139, Loss: 566.002\n",
            "Epoch: 140, Loss: 504.532\n",
            "Epoch: 141, Loss: 542.706\n",
            "Epoch: 142, Loss: 523.986\n",
            "Epoch: 143, Loss: 474.516\n",
            "Epoch: 144, Loss: 586.383\n",
            "Epoch: 145, Loss: 578.388\n",
            "Epoch: 146, Loss: 486.934\n",
            "Epoch: 147, Loss: 552.216\n",
            "Epoch: 148, Loss: 552.891\n",
            "Epoch: 149, Loss: 556.533\n",
            "Epoch: 150, Loss: 549.023\n",
            "Epoch: 151, Loss: 524.810\n",
            "Epoch: 152, Loss: 588.894\n",
            "Epoch: 153, Loss: 494.665\n",
            "Epoch: 154, Loss: 550.827\n",
            "Epoch: 155, Loss: 503.299\n",
            "Epoch: 156, Loss: 515.815\n",
            "Epoch: 157, Loss: 604.515\n",
            "Epoch: 158, Loss: 527.280\n",
            "Epoch: 159, Loss: 528.174\n",
            "Epoch: 160, Loss: 529.042\n",
            "Epoch: 161, Loss: 568.769\n",
            "Epoch: 162, Loss: 511.174\n",
            "Epoch: 163, Loss: 539.813\n",
            "Epoch: 164, Loss: 522.121\n",
            "Epoch: 165, Loss: 511.421\n",
            "Epoch: 166, Loss: 451.175\n",
            "Epoch: 167, Loss: 542.208\n",
            "Epoch: 168, Loss: 497.751\n",
            "Epoch: 169, Loss: 531.670\n",
            "Epoch: 170, Loss: 518.569\n",
            "Epoch: 171, Loss: 593.126\n",
            "Epoch: 172, Loss: 565.520\n",
            "Epoch: 173, Loss: 584.938\n",
            "Epoch: 174, Loss: 546.135\n",
            "Epoch: 175, Loss: 511.965\n",
            "Epoch: 176, Loss: 527.618\n",
            "Epoch: 177, Loss: 497.158\n",
            "Epoch: 178, Loss: 536.413\n",
            "Epoch: 179, Loss: 574.554\n",
            "Epoch: 180, Loss: 490.089\n",
            "Epoch: 181, Loss: 504.406\n",
            "Epoch: 182, Loss: 534.816\n",
            "Epoch: 183, Loss: 501.612\n",
            "Epoch: 184, Loss: 512.357\n",
            "Epoch: 185, Loss: 517.942\n",
            "Epoch: 186, Loss: 490.947\n",
            "Epoch: 187, Loss: 525.470\n",
            "Epoch: 188, Loss: 642.691\n",
            "Epoch: 189, Loss: 497.073\n",
            "Epoch: 190, Loss: 518.254\n",
            "Epoch: 191, Loss: 527.328\n",
            "Epoch: 192, Loss: 518.988\n",
            "Epoch: 193, Loss: 515.722\n",
            "Epoch: 194, Loss: 515.414\n",
            "Epoch: 195, Loss: 511.520\n",
            "Epoch: 196, Loss: 465.519\n",
            "Epoch: 197, Loss: 517.611\n",
            "Epoch: 198, Loss: 514.377\n",
            "Epoch: 199, Loss: 485.675\n",
            "Epoch: 200, Loss: 582.081\n",
            "Epoch: 201, Loss: 536.680\n",
            "Epoch: 202, Loss: 487.714\n",
            "Epoch: 203, Loss: 555.036\n",
            "Epoch: 204, Loss: 488.195\n",
            "Epoch: 205, Loss: 550.082\n",
            "Epoch: 206, Loss: 522.116\n",
            "Epoch: 207, Loss: 551.514\n",
            "Epoch: 208, Loss: 485.126\n",
            "Epoch: 209, Loss: 566.615\n",
            "Epoch: 210, Loss: 552.915\n",
            "Epoch: 211, Loss: 494.031\n",
            "Epoch: 212, Loss: 491.923\n",
            "Epoch: 213, Loss: 544.690\n",
            "Epoch: 214, Loss: 531.151\n",
            "Epoch: 215, Loss: 537.573\n",
            "Epoch: 216, Loss: 505.089\n",
            "Epoch: 217, Loss: 610.904\n",
            "Epoch: 218, Loss: 530.901\n",
            "Epoch: 219, Loss: 533.278\n",
            "Epoch: 220, Loss: 545.750\n",
            "Epoch: 221, Loss: 502.376\n",
            "Epoch: 222, Loss: 523.371\n",
            "Epoch: 223, Loss: 522.764\n",
            "Epoch: 224, Loss: 622.701\n",
            "Epoch: 225, Loss: 651.377\n",
            "Epoch: 226, Loss: 529.823\n",
            "Epoch: 227, Loss: 624.825\n",
            "Epoch: 228, Loss: 495.533\n",
            "Epoch: 229, Loss: 540.088\n",
            "Epoch: 230, Loss: 568.545\n",
            "Epoch: 231, Loss: 549.667\n",
            "Epoch: 232, Loss: 552.788\n",
            "Epoch: 233, Loss: 530.816\n",
            "Epoch: 234, Loss: 581.579\n",
            "Epoch: 235, Loss: 608.118\n",
            "Epoch: 236, Loss: 659.099\n",
            "Epoch: 237, Loss: 493.416\n",
            "Epoch: 238, Loss: 578.700\n",
            "Epoch: 239, Loss: 634.267\n",
            "Epoch: 240, Loss: 517.260\n",
            "Epoch: 241, Loss: 525.922\n",
            "Epoch: 242, Loss: 542.010\n",
            "Epoch: 243, Loss: 535.519\n",
            "Epoch: 244, Loss: 512.122\n",
            "Epoch: 245, Loss: 578.301\n",
            "Epoch: 246, Loss: 585.260\n",
            "Epoch: 247, Loss: 472.210\n",
            "Epoch: 248, Loss: 514.029\n",
            "Epoch: 249, Loss: 553.864\n",
            "Epoch: 250, Loss: 455.099\n",
            "Epoch: 251, Loss: 482.642\n",
            "Epoch: 252, Loss: 590.458\n",
            "Epoch: 253, Loss: 499.541\n",
            "Epoch: 254, Loss: 514.947\n",
            "Epoch: 255, Loss: 541.293\n",
            "Epoch: 256, Loss: 511.577\n",
            "Epoch: 257, Loss: 509.793\n",
            "Epoch: 258, Loss: 533.710\n",
            "Epoch: 259, Loss: 545.104\n",
            "Epoch: 260, Loss: 535.359\n",
            "Epoch: 261, Loss: 496.649\n",
            "Epoch: 262, Loss: 531.841\n",
            "Epoch: 263, Loss: 512.869\n",
            "Epoch: 264, Loss: 559.427\n",
            "Epoch: 265, Loss: 591.040\n",
            "Epoch: 266, Loss: 545.418\n",
            "Epoch: 267, Loss: 526.888\n",
            "Epoch: 268, Loss: 530.497\n",
            "Epoch: 269, Loss: 551.473\n",
            "Epoch: 270, Loss: 519.262\n",
            "Epoch: 271, Loss: 527.493\n",
            "Epoch: 272, Loss: 547.574\n",
            "Epoch: 273, Loss: 539.186\n",
            "Epoch: 274, Loss: 514.445\n",
            "Epoch: 275, Loss: 534.364\n",
            "Epoch: 276, Loss: 572.920\n",
            "Epoch: 277, Loss: 549.581\n",
            "Epoch: 278, Loss: 556.270\n",
            "Epoch: 279, Loss: 512.384\n",
            "Epoch: 280, Loss: 529.836\n",
            "Epoch: 281, Loss: 518.671\n",
            "Epoch: 282, Loss: 483.735\n",
            "Epoch: 283, Loss: 536.038\n",
            "Epoch: 284, Loss: 548.866\n",
            "Epoch: 285, Loss: 540.968\n",
            "Epoch: 286, Loss: 586.936\n",
            "Epoch: 287, Loss: 569.673\n",
            "Epoch: 288, Loss: 526.558\n",
            "Epoch: 289, Loss: 545.046\n",
            "Epoch: 290, Loss: 507.826\n",
            "Epoch: 291, Loss: 526.103\n",
            "Epoch: 292, Loss: 524.278\n",
            "Epoch: 293, Loss: 547.795\n",
            "Epoch: 294, Loss: 559.085\n",
            "Epoch: 295, Loss: 532.959\n",
            "Epoch: 296, Loss: 494.377\n",
            "Epoch: 297, Loss: 507.217\n",
            "Epoch: 298, Loss: 512.055\n",
            "Epoch: 299, Loss: 546.232\n",
            "Epoch: 300, Loss: 550.208\n",
            "Epoch: 301, Loss: 528.598\n",
            "Epoch: 302, Loss: 608.432\n",
            "Epoch: 303, Loss: 527.100\n",
            "Epoch: 304, Loss: 527.073\n",
            "Epoch: 305, Loss: 516.503\n",
            "Epoch: 306, Loss: 555.447\n",
            "Epoch: 307, Loss: 538.620\n",
            "Epoch: 308, Loss: 621.351\n",
            "Epoch: 309, Loss: 541.026\n",
            "Epoch: 310, Loss: 568.150\n",
            "Epoch: 311, Loss: 638.539\n",
            "Epoch: 312, Loss: 593.325\n",
            "Epoch: 313, Loss: 531.409\n",
            "Epoch: 314, Loss: 482.849\n",
            "Epoch: 315, Loss: 495.728\n",
            "Epoch: 316, Loss: 511.722\n",
            "Epoch: 317, Loss: 514.437\n",
            "Epoch: 318, Loss: 551.462\n",
            "Epoch: 319, Loss: 510.369\n",
            "Epoch: 320, Loss: 549.349\n",
            "Epoch: 321, Loss: 555.189\n",
            "Epoch: 322, Loss: 499.866\n",
            "Epoch: 323, Loss: 507.463\n",
            "Epoch: 324, Loss: 532.229\n",
            "Epoch: 325, Loss: 524.806\n",
            "Epoch: 326, Loss: 517.392\n",
            "Epoch: 327, Loss: 518.983\n",
            "Epoch: 328, Loss: 557.846\n",
            "Epoch: 329, Loss: 522.736\n",
            "Epoch: 330, Loss: 541.486\n",
            "Epoch: 331, Loss: 601.058\n",
            "Epoch: 332, Loss: 588.542\n",
            "Epoch: 333, Loss: 481.186\n",
            "Epoch: 334, Loss: 509.645\n",
            "Epoch: 335, Loss: 499.555\n",
            "Epoch: 336, Loss: 530.723\n",
            "Epoch: 337, Loss: 517.247\n",
            "Epoch: 338, Loss: 571.493\n",
            "Epoch: 339, Loss: 571.284\n",
            "Epoch: 340, Loss: 496.506\n",
            "Epoch: 341, Loss: 487.128\n",
            "Epoch: 342, Loss: 520.607\n",
            "Epoch: 343, Loss: 595.663\n",
            "Epoch: 344, Loss: 445.850\n",
            "Epoch: 345, Loss: 539.290\n",
            "Epoch: 346, Loss: 574.718\n",
            "Epoch: 347, Loss: 527.301\n",
            "Epoch: 348, Loss: 598.691\n",
            "Epoch: 349, Loss: 518.467\n",
            "Epoch: 350, Loss: 484.209\n",
            "Epoch: 351, Loss: 514.035\n",
            "Epoch: 352, Loss: 572.889\n",
            "Epoch: 353, Loss: 582.934\n",
            "Epoch: 354, Loss: 526.543\n",
            "Epoch: 355, Loss: 522.333\n",
            "Epoch: 356, Loss: 548.263\n",
            "Epoch: 357, Loss: 542.435\n",
            "Epoch: 358, Loss: 478.652\n",
            "Epoch: 359, Loss: 549.221\n",
            "Epoch: 360, Loss: 534.221\n",
            "Epoch: 361, Loss: 581.607\n",
            "Epoch: 362, Loss: 550.129\n",
            "Epoch: 363, Loss: 572.458\n",
            "Epoch: 364, Loss: 544.346\n",
            "Epoch: 365, Loss: 474.544\n",
            "Epoch: 366, Loss: 594.949\n",
            "Epoch: 367, Loss: 541.243\n",
            "Epoch: 368, Loss: 500.619\n",
            "Epoch: 369, Loss: 505.632\n",
            "Epoch: 370, Loss: 539.033\n",
            "Epoch: 371, Loss: 583.957\n",
            "Epoch: 372, Loss: 564.312\n",
            "Epoch: 373, Loss: 520.004\n",
            "Epoch: 374, Loss: 540.789\n",
            "Epoch: 375, Loss: 507.387\n",
            "Epoch: 376, Loss: 491.879\n",
            "Epoch: 377, Loss: 512.957\n",
            "Epoch: 378, Loss: 520.379\n",
            "Epoch: 379, Loss: 574.970\n",
            "Epoch: 380, Loss: 544.468\n",
            "Epoch: 381, Loss: 558.128\n",
            "Epoch: 382, Loss: 559.088\n",
            "Epoch: 383, Loss: 500.592\n",
            "Epoch: 384, Loss: 561.367\n",
            "Epoch: 385, Loss: 525.413\n",
            "Epoch: 386, Loss: 511.011\n",
            "Epoch: 387, Loss: 519.773\n",
            "Epoch: 388, Loss: 564.136\n",
            "Epoch: 389, Loss: 589.390\n",
            "Epoch: 390, Loss: 513.129\n",
            "Epoch: 391, Loss: 576.802\n",
            "Epoch: 392, Loss: 572.587\n",
            "Epoch: 393, Loss: 574.914\n",
            "Epoch: 394, Loss: 516.482\n",
            "Epoch: 395, Loss: 537.622\n",
            "Epoch: 396, Loss: 512.100\n",
            "Epoch: 397, Loss: 485.518\n",
            "Epoch: 398, Loss: 522.604\n",
            "Epoch: 399, Loss: 491.091\n",
            "Epoch: 400, Loss: 540.518\n",
            "Epoch: 401, Loss: 533.071\n",
            "Epoch: 402, Loss: 528.188\n",
            "Epoch: 403, Loss: 557.171\n",
            "Epoch: 404, Loss: 537.073\n",
            "Epoch: 405, Loss: 517.242\n",
            "Epoch: 406, Loss: 473.532\n",
            "Epoch: 407, Loss: 600.318\n",
            "Epoch: 408, Loss: 544.959\n",
            "Epoch: 409, Loss: 582.828\n",
            "Epoch: 410, Loss: 535.321\n",
            "Epoch: 411, Loss: 495.358\n",
            "Epoch: 412, Loss: 619.651\n",
            "Epoch: 413, Loss: 555.527\n",
            "Epoch: 414, Loss: 589.462\n",
            "Epoch: 415, Loss: 509.164\n",
            "Epoch: 416, Loss: 503.168\n",
            "Epoch: 417, Loss: 532.647\n",
            "Epoch: 418, Loss: 523.536\n",
            "Epoch: 419, Loss: 595.357\n",
            "Epoch: 420, Loss: 573.921\n",
            "Epoch: 421, Loss: 597.763\n",
            "Epoch: 422, Loss: 494.482\n",
            "Epoch: 423, Loss: 635.528\n",
            "Epoch: 424, Loss: 530.061\n",
            "Epoch: 425, Loss: 516.334\n",
            "Epoch: 426, Loss: 564.297\n",
            "Epoch: 427, Loss: 518.920\n",
            "Epoch: 428, Loss: 624.559\n",
            "Epoch: 429, Loss: 565.514\n",
            "Epoch: 430, Loss: 514.339\n",
            "Epoch: 431, Loss: 471.615\n",
            "Epoch: 432, Loss: 531.392\n",
            "Epoch: 433, Loss: 474.742\n",
            "Epoch: 434, Loss: 512.796\n",
            "Epoch: 435, Loss: 559.393\n",
            "Epoch: 436, Loss: 518.019\n",
            "Epoch: 437, Loss: 497.229\n",
            "Epoch: 438, Loss: 510.572\n",
            "Epoch: 439, Loss: 497.675\n",
            "Epoch: 440, Loss: 537.515\n",
            "Epoch: 441, Loss: 547.698\n",
            "Epoch: 442, Loss: 504.442\n",
            "Epoch: 443, Loss: 531.823\n",
            "Epoch: 444, Loss: 516.214\n",
            "Epoch: 445, Loss: 538.900\n",
            "Epoch: 446, Loss: 569.187\n",
            "Epoch: 447, Loss: 508.046\n",
            "Epoch: 448, Loss: 594.376\n",
            "Epoch: 449, Loss: 552.249\n",
            "Epoch: 450, Loss: 520.932\n",
            "Epoch: 451, Loss: 611.248\n",
            "Epoch: 452, Loss: 528.300\n",
            "Epoch: 453, Loss: 571.846\n",
            "Epoch: 454, Loss: 560.206\n",
            "Epoch: 455, Loss: 518.386\n",
            "Epoch: 456, Loss: 542.939\n",
            "Epoch: 457, Loss: 577.964\n",
            "Epoch: 458, Loss: 506.217\n",
            "Epoch: 459, Loss: 527.511\n",
            "Epoch: 460, Loss: 608.881\n",
            "Epoch: 461, Loss: 553.236\n",
            "Epoch: 462, Loss: 505.738\n",
            "Epoch: 463, Loss: 503.241\n",
            "Epoch: 464, Loss: 541.122\n",
            "Epoch: 465, Loss: 522.834\n",
            "Epoch: 466, Loss: 561.918\n",
            "Epoch: 467, Loss: 568.631\n",
            "Epoch: 468, Loss: 653.612\n",
            "Epoch: 469, Loss: 498.007\n",
            "Epoch: 470, Loss: 509.244\n",
            "Epoch: 471, Loss: 540.098\n",
            "Epoch: 472, Loss: 478.586\n",
            "Epoch: 473, Loss: 553.615\n",
            "Epoch: 474, Loss: 553.682\n",
            "Epoch: 475, Loss: 491.654\n",
            "Epoch: 476, Loss: 527.343\n",
            "Epoch: 477, Loss: 506.236\n",
            "Epoch: 478, Loss: 534.381\n",
            "Epoch: 479, Loss: 580.018\n",
            "Epoch: 480, Loss: 559.563\n",
            "Epoch: 481, Loss: 570.674\n",
            "Epoch: 482, Loss: 513.346\n",
            "Epoch: 483, Loss: 510.053\n",
            "Epoch: 484, Loss: 541.938\n",
            "Epoch: 485, Loss: 554.114\n",
            "Epoch: 486, Loss: 501.889\n",
            "Epoch: 487, Loss: 502.059\n",
            "Epoch: 488, Loss: 528.989\n",
            "Epoch: 489, Loss: 502.620\n",
            "Epoch: 490, Loss: 572.686\n",
            "Epoch: 491, Loss: 560.020\n",
            "Epoch: 492, Loss: 498.263\n",
            "Epoch: 493, Loss: 513.216\n",
            "Epoch: 494, Loss: 528.525\n",
            "Epoch: 495, Loss: 493.902\n",
            "Epoch: 496, Loss: 520.346\n",
            "Epoch: 497, Loss: 565.337\n",
            "Epoch: 498, Loss: 554.363\n",
            "Epoch: 499, Loss: 535.719\n",
            "Epoch: 500, Loss: 523.335\n",
            "Epoch: 501, Loss: 515.106\n",
            "Epoch: 502, Loss: 497.269\n",
            "Epoch: 503, Loss: 484.550\n",
            "Epoch: 504, Loss: 489.628\n",
            "Epoch: 505, Loss: 537.961\n",
            "Epoch: 506, Loss: 538.129\n",
            "Epoch: 507, Loss: 569.054\n",
            "Epoch: 508, Loss: 507.487\n",
            "Epoch: 509, Loss: 631.990\n",
            "Epoch: 510, Loss: 569.784\n",
            "Epoch: 511, Loss: 528.800\n",
            "Epoch: 512, Loss: 552.886\n",
            "Epoch: 513, Loss: 545.329\n",
            "Epoch: 514, Loss: 535.200\n",
            "Epoch: 515, Loss: 552.264\n",
            "Epoch: 516, Loss: 507.391\n",
            "Epoch: 517, Loss: 495.822\n",
            "Epoch: 518, Loss: 535.287\n",
            "Epoch: 519, Loss: 561.409\n",
            "Epoch: 520, Loss: 553.697\n",
            "Epoch: 521, Loss: 489.934\n",
            "Epoch: 522, Loss: 536.431\n",
            "Epoch: 523, Loss: 581.611\n",
            "Epoch: 524, Loss: 558.530\n",
            "Epoch: 525, Loss: 567.992\n",
            "Epoch: 526, Loss: 525.810\n",
            "Epoch: 527, Loss: 547.160\n",
            "Epoch: 528, Loss: 502.642\n",
            "Epoch: 529, Loss: 500.285\n",
            "Epoch: 530, Loss: 521.512\n",
            "Epoch: 531, Loss: 601.562\n",
            "Epoch: 532, Loss: 580.684\n",
            "Epoch: 533, Loss: 536.414\n",
            "Epoch: 534, Loss: 530.249\n",
            "Epoch: 535, Loss: 469.332\n",
            "Epoch: 536, Loss: 579.573\n",
            "Epoch: 537, Loss: 547.834\n",
            "Epoch: 538, Loss: 532.198\n",
            "Epoch: 539, Loss: 534.785\n",
            "Epoch: 540, Loss: 514.676\n",
            "Epoch: 541, Loss: 556.414\n",
            "Epoch: 542, Loss: 549.082\n",
            "Epoch: 543, Loss: 531.619\n",
            "Epoch: 544, Loss: 563.443\n",
            "Epoch: 545, Loss: 559.980\n",
            "Epoch: 546, Loss: 508.995\n",
            "Epoch: 547, Loss: 558.242\n",
            "Epoch: 548, Loss: 494.595\n",
            "Epoch: 549, Loss: 473.416\n",
            "Epoch: 550, Loss: 500.647\n",
            "Epoch: 551, Loss: 528.784\n",
            "Epoch: 552, Loss: 524.653\n",
            "Epoch: 553, Loss: 568.981\n",
            "Epoch: 554, Loss: 618.035\n",
            "Epoch: 555, Loss: 510.877\n",
            "Epoch: 556, Loss: 486.482\n",
            "Epoch: 557, Loss: 563.979\n",
            "Epoch: 558, Loss: 540.242\n",
            "Epoch: 559, Loss: 577.522\n",
            "Epoch: 560, Loss: 565.126\n",
            "Epoch: 561, Loss: 522.533\n",
            "Epoch: 562, Loss: 560.844\n",
            "Epoch: 563, Loss: 540.818\n",
            "Epoch: 564, Loss: 569.940\n",
            "Epoch: 565, Loss: 502.647\n",
            "Epoch: 566, Loss: 565.689\n",
            "Epoch: 567, Loss: 578.326\n",
            "Epoch: 568, Loss: 505.839\n",
            "Epoch: 569, Loss: 563.144\n",
            "Epoch: 570, Loss: 500.061\n",
            "Epoch: 571, Loss: 499.859\n",
            "Epoch: 572, Loss: 541.368\n",
            "Epoch: 573, Loss: 523.219\n",
            "Epoch: 574, Loss: 543.254\n",
            "Epoch: 575, Loss: 556.755\n",
            "Epoch: 576, Loss: 575.031\n",
            "Epoch: 577, Loss: 478.776\n",
            "Epoch: 578, Loss: 582.428\n",
            "Epoch: 579, Loss: 510.373\n",
            "Epoch: 580, Loss: 577.402\n",
            "Epoch: 581, Loss: 457.772\n",
            "Epoch: 582, Loss: 500.227\n",
            "Epoch: 583, Loss: 484.473\n",
            "Epoch: 584, Loss: 550.631\n",
            "Epoch: 585, Loss: 485.344\n",
            "Epoch: 586, Loss: 545.314\n",
            "Epoch: 587, Loss: 502.077\n",
            "Epoch: 588, Loss: 549.087\n",
            "Epoch: 589, Loss: 523.016\n",
            "Epoch: 590, Loss: 522.409\n",
            "Epoch: 591, Loss: 545.210\n",
            "Epoch: 592, Loss: 526.086\n",
            "Epoch: 593, Loss: 506.680\n",
            "Epoch: 594, Loss: 559.809\n",
            "Epoch: 595, Loss: 609.634\n",
            "Epoch: 596, Loss: 520.601\n",
            "Epoch: 597, Loss: 587.094\n",
            "Epoch: 598, Loss: 581.343\n",
            "Epoch: 599, Loss: 519.113\n",
            "Epoch: 600, Loss: 566.786\n",
            "Epoch: 601, Loss: 491.415\n",
            "Epoch: 602, Loss: 500.530\n",
            "Epoch: 603, Loss: 596.381\n",
            "Epoch: 604, Loss: 529.384\n",
            "Epoch: 605, Loss: 575.101\n",
            "Epoch: 606, Loss: 635.916\n",
            "Epoch: 607, Loss: 576.339\n",
            "Epoch: 608, Loss: 552.872\n",
            "Epoch: 609, Loss: 550.023\n",
            "Epoch: 610, Loss: 512.443\n",
            "Epoch: 611, Loss: 524.282\n",
            "Epoch: 612, Loss: 536.986\n",
            "Epoch: 613, Loss: 648.697\n",
            "Epoch: 614, Loss: 602.882\n",
            "Epoch: 615, Loss: 543.029\n",
            "Epoch: 616, Loss: 626.687\n",
            "Epoch: 617, Loss: 599.238\n",
            "Epoch: 618, Loss: 521.920\n",
            "Epoch: 619, Loss: 517.543\n",
            "Epoch: 620, Loss: 582.021\n",
            "Epoch: 621, Loss: 499.129\n",
            "Epoch: 622, Loss: 498.518\n",
            "Epoch: 623, Loss: 562.944\n",
            "Epoch: 624, Loss: 541.681\n",
            "Epoch: 625, Loss: 521.524\n",
            "Epoch: 626, Loss: 540.513\n",
            "Epoch: 627, Loss: 540.190\n",
            "Epoch: 628, Loss: 492.769\n",
            "Epoch: 629, Loss: 479.449\n",
            "Epoch: 630, Loss: 580.357\n",
            "Epoch: 631, Loss: 576.242\n",
            "Epoch: 632, Loss: 529.924\n",
            "Epoch: 633, Loss: 549.975\n",
            "Epoch: 634, Loss: 554.614\n",
            "Epoch: 635, Loss: 534.551\n",
            "Epoch: 636, Loss: 531.535\n",
            "Epoch: 637, Loss: 598.375\n",
            "Epoch: 638, Loss: 556.953\n",
            "Epoch: 639, Loss: 523.553\n",
            "Epoch: 640, Loss: 571.140\n",
            "Epoch: 641, Loss: 491.303\n",
            "Epoch: 642, Loss: 598.634\n",
            "Epoch: 643, Loss: 507.334\n",
            "Epoch: 644, Loss: 508.990\n",
            "Epoch: 645, Loss: 516.709\n",
            "Epoch: 646, Loss: 518.753\n",
            "Epoch: 647, Loss: 590.875\n",
            "Epoch: 648, Loss: 492.787\n",
            "Epoch: 649, Loss: 562.514\n",
            "Epoch: 650, Loss: 549.003\n",
            "Epoch: 651, Loss: 521.686\n",
            "Epoch: 652, Loss: 491.795\n",
            "Epoch: 653, Loss: 555.399\n",
            "Epoch: 654, Loss: 667.652\n",
            "Epoch: 655, Loss: 520.976\n",
            "Epoch: 656, Loss: 562.809\n",
            "Epoch: 657, Loss: 564.078\n",
            "Epoch: 658, Loss: 479.592\n",
            "Epoch: 659, Loss: 495.110\n",
            "Epoch: 660, Loss: 578.998\n",
            "Epoch: 661, Loss: 519.125\n",
            "Epoch: 662, Loss: 543.519\n",
            "Epoch: 663, Loss: 502.735\n",
            "Epoch: 664, Loss: 488.933\n",
            "Epoch: 665, Loss: 494.345\n",
            "Epoch: 666, Loss: 514.529\n",
            "Epoch: 667, Loss: 474.138\n",
            "Epoch: 668, Loss: 556.578\n",
            "Epoch: 669, Loss: 550.718\n",
            "Epoch: 670, Loss: 541.698\n",
            "Epoch: 671, Loss: 513.711\n",
            "Epoch: 672, Loss: 561.927\n",
            "Epoch: 673, Loss: 601.743\n",
            "Epoch: 674, Loss: 522.611\n",
            "Epoch: 675, Loss: 495.135\n",
            "Epoch: 676, Loss: 533.997\n",
            "Epoch: 677, Loss: 565.177\n",
            "Epoch: 678, Loss: 569.123\n",
            "Epoch: 679, Loss: 560.912\n",
            "Epoch: 680, Loss: 489.248\n",
            "Epoch: 681, Loss: 485.598\n",
            "Epoch: 682, Loss: 560.744\n",
            "Epoch: 683, Loss: 578.052\n",
            "Epoch: 684, Loss: 491.077\n",
            "Epoch: 685, Loss: 550.203\n",
            "Epoch: 686, Loss: 517.650\n",
            "Epoch: 687, Loss: 579.348\n",
            "Epoch: 688, Loss: 537.166\n",
            "Epoch: 689, Loss: 516.324\n",
            "Epoch: 690, Loss: 552.587\n",
            "Epoch: 691, Loss: 478.879\n",
            "Epoch: 692, Loss: 522.583\n",
            "Epoch: 693, Loss: 568.528\n",
            "Epoch: 694, Loss: 546.545\n",
            "Epoch: 695, Loss: 502.224\n",
            "Epoch: 696, Loss: 470.570\n",
            "Epoch: 697, Loss: 620.257\n",
            "Epoch: 698, Loss: 506.651\n",
            "Epoch: 699, Loss: 652.348\n",
            "Epoch: 700, Loss: 521.744\n",
            "Epoch: 701, Loss: 598.654\n",
            "Epoch: 702, Loss: 500.251\n",
            "Epoch: 703, Loss: 607.894\n",
            "Epoch: 704, Loss: 495.783\n",
            "Epoch: 705, Loss: 507.494\n",
            "Epoch: 706, Loss: 542.045\n",
            "Epoch: 707, Loss: 529.476\n",
            "Epoch: 708, Loss: 521.818\n",
            "Epoch: 709, Loss: 527.760\n",
            "Epoch: 710, Loss: 436.876\n",
            "Epoch: 711, Loss: 486.630\n",
            "Epoch: 712, Loss: 553.906\n",
            "Epoch: 713, Loss: 509.058\n",
            "Epoch: 714, Loss: 526.164\n",
            "Epoch: 715, Loss: 512.237\n",
            "Epoch: 716, Loss: 510.350\n",
            "Epoch: 717, Loss: 533.051\n",
            "Epoch: 718, Loss: 525.982\n",
            "Epoch: 719, Loss: 482.012\n",
            "Epoch: 720, Loss: 589.718\n",
            "Epoch: 721, Loss: 546.299\n",
            "Epoch: 722, Loss: 498.125\n",
            "Epoch: 723, Loss: 558.505\n",
            "Epoch: 724, Loss: 535.387\n",
            "Epoch: 725, Loss: 489.682\n",
            "Epoch: 726, Loss: 541.569\n",
            "Epoch: 727, Loss: 496.482\n",
            "Epoch: 728, Loss: 552.700\n",
            "Epoch: 729, Loss: 535.831\n",
            "Epoch: 730, Loss: 555.079\n",
            "Epoch: 731, Loss: 572.958\n",
            "Epoch: 732, Loss: 508.422\n",
            "Epoch: 733, Loss: 537.718\n",
            "Epoch: 734, Loss: 583.922\n",
            "Epoch: 735, Loss: 535.062\n",
            "Epoch: 736, Loss: 503.443\n",
            "Epoch: 737, Loss: 536.873\n",
            "Epoch: 738, Loss: 528.476\n",
            "Epoch: 739, Loss: 541.385\n",
            "Epoch: 740, Loss: 609.671\n",
            "Epoch: 741, Loss: 706.094\n",
            "Epoch: 742, Loss: 517.857\n",
            "Epoch: 743, Loss: 519.812\n",
            "Epoch: 744, Loss: 543.022\n",
            "Epoch: 745, Loss: 500.017\n",
            "Epoch: 746, Loss: 535.358\n",
            "Epoch: 747, Loss: 495.491\n",
            "Epoch: 748, Loss: 521.968\n",
            "Epoch: 749, Loss: 568.543\n",
            "Epoch: 750, Loss: 520.819\n",
            "Epoch: 751, Loss: 601.438\n",
            "Epoch: 752, Loss: 516.526\n",
            "Epoch: 753, Loss: 546.692\n",
            "Epoch: 754, Loss: 596.505\n",
            "Epoch: 755, Loss: 535.785\n",
            "Epoch: 756, Loss: 493.109\n",
            "Epoch: 757, Loss: 582.068\n",
            "Epoch: 758, Loss: 596.624\n",
            "Epoch: 759, Loss: 501.808\n",
            "Epoch: 760, Loss: 489.167\n",
            "Epoch: 761, Loss: 505.640\n",
            "Epoch: 762, Loss: 573.820\n",
            "Epoch: 763, Loss: 611.635\n",
            "Epoch: 764, Loss: 515.938\n",
            "Epoch: 765, Loss: 521.122\n",
            "Epoch: 766, Loss: 487.832\n",
            "Epoch: 767, Loss: 510.756\n",
            "Epoch: 768, Loss: 501.872\n",
            "Epoch: 769, Loss: 549.196\n",
            "Epoch: 770, Loss: 495.661\n",
            "Epoch: 771, Loss: 498.183\n",
            "Epoch: 772, Loss: 580.376\n",
            "Epoch: 773, Loss: 510.075\n",
            "Epoch: 774, Loss: 494.780\n",
            "Epoch: 775, Loss: 550.535\n",
            "Epoch: 776, Loss: 547.897\n",
            "Epoch: 777, Loss: 493.844\n",
            "Epoch: 778, Loss: 560.390\n",
            "Epoch: 779, Loss: 511.962\n",
            "Epoch: 780, Loss: 529.313\n",
            "Epoch: 781, Loss: 532.122\n",
            "Epoch: 782, Loss: 527.062\n",
            "Epoch: 783, Loss: 486.077\n",
            "Epoch: 784, Loss: 517.508\n",
            "Epoch: 785, Loss: 503.075\n",
            "Epoch: 786, Loss: 554.722\n",
            "Epoch: 787, Loss: 537.720\n",
            "Epoch: 788, Loss: 591.243\n",
            "Epoch: 789, Loss: 488.199\n",
            "Epoch: 790, Loss: 506.609\n",
            "Epoch: 791, Loss: 532.860\n",
            "Epoch: 792, Loss: 608.792\n",
            "Epoch: 793, Loss: 529.822\n",
            "Epoch: 794, Loss: 486.613\n",
            "Epoch: 795, Loss: 554.010\n",
            "Epoch: 796, Loss: 560.965\n",
            "Epoch: 797, Loss: 528.616\n",
            "Epoch: 798, Loss: 497.085\n",
            "Epoch: 799, Loss: 484.605\n",
            "Epoch: 800, Loss: 565.535\n",
            "Epoch: 801, Loss: 489.866\n",
            "Epoch: 802, Loss: 616.093\n",
            "Epoch: 803, Loss: 625.147\n",
            "Epoch: 804, Loss: 541.757\n",
            "Epoch: 805, Loss: 495.773\n",
            "Epoch: 806, Loss: 546.139\n",
            "Epoch: 807, Loss: 537.573\n",
            "Epoch: 808, Loss: 556.598\n",
            "Epoch: 809, Loss: 552.491\n",
            "Epoch: 810, Loss: 530.308\n",
            "Epoch: 811, Loss: 509.892\n",
            "Epoch: 812, Loss: 582.868\n",
            "Epoch: 813, Loss: 544.084\n",
            "Epoch: 814, Loss: 511.578\n",
            "Epoch: 815, Loss: 594.773\n",
            "Epoch: 816, Loss: 507.731\n",
            "Epoch: 817, Loss: 541.390\n",
            "Epoch: 818, Loss: 490.979\n",
            "Epoch: 819, Loss: 509.595\n",
            "Epoch: 820, Loss: 531.721\n",
            "Epoch: 821, Loss: 540.182\n",
            "Epoch: 822, Loss: 519.564\n",
            "Epoch: 823, Loss: 506.002\n",
            "Epoch: 824, Loss: 614.771\n",
            "Epoch: 825, Loss: 507.258\n",
            "Epoch: 826, Loss: 489.417\n",
            "Epoch: 827, Loss: 519.524\n",
            "Epoch: 828, Loss: 533.655\n",
            "Epoch: 829, Loss: 584.792\n",
            "Epoch: 830, Loss: 547.339\n",
            "Epoch: 831, Loss: 532.335\n",
            "Epoch: 832, Loss: 496.775\n",
            "Epoch: 833, Loss: 561.147\n",
            "Epoch: 834, Loss: 554.077\n",
            "Epoch: 835, Loss: 516.236\n",
            "Epoch: 836, Loss: 489.285\n",
            "Epoch: 837, Loss: 574.512\n",
            "Epoch: 838, Loss: 548.473\n",
            "Epoch: 839, Loss: 628.075\n",
            "Epoch: 840, Loss: 511.473\n",
            "Epoch: 841, Loss: 542.335\n",
            "Epoch: 842, Loss: 559.155\n",
            "Epoch: 843, Loss: 580.957\n",
            "Epoch: 844, Loss: 535.087\n",
            "Epoch: 845, Loss: 617.484\n",
            "Epoch: 846, Loss: 531.772\n",
            "Epoch: 847, Loss: 595.486\n",
            "Epoch: 848, Loss: 537.588\n",
            "Epoch: 849, Loss: 507.412\n",
            "Epoch: 850, Loss: 551.221\n",
            "Epoch: 851, Loss: 501.290\n",
            "Epoch: 852, Loss: 522.618\n",
            "Epoch: 853, Loss: 570.574\n",
            "Epoch: 854, Loss: 497.385\n",
            "Epoch: 855, Loss: 528.370\n",
            "Epoch: 856, Loss: 493.841\n",
            "Epoch: 857, Loss: 598.927\n",
            "Epoch: 858, Loss: 464.730\n",
            "Epoch: 859, Loss: 540.917\n",
            "Epoch: 860, Loss: 573.302\n",
            "Epoch: 861, Loss: 582.521\n",
            "Epoch: 862, Loss: 530.695\n",
            "Epoch: 863, Loss: 544.845\n",
            "Epoch: 864, Loss: 498.491\n",
            "Epoch: 865, Loss: 489.757\n",
            "Epoch: 866, Loss: 581.839\n",
            "Epoch: 867, Loss: 542.980\n",
            "Epoch: 868, Loss: 496.375\n",
            "Epoch: 869, Loss: 513.762\n",
            "Epoch: 870, Loss: 548.165\n",
            "Epoch: 871, Loss: 603.425\n",
            "Epoch: 872, Loss: 537.290\n",
            "Epoch: 873, Loss: 630.819\n",
            "Epoch: 874, Loss: 506.791\n",
            "Epoch: 875, Loss: 540.712\n",
            "Epoch: 876, Loss: 564.795\n",
            "Epoch: 877, Loss: 534.501\n",
            "Epoch: 878, Loss: 475.921\n",
            "Epoch: 879, Loss: 545.263\n",
            "Epoch: 880, Loss: 513.403\n",
            "Epoch: 881, Loss: 490.130\n",
            "Epoch: 882, Loss: 528.815\n",
            "Epoch: 883, Loss: 569.046\n",
            "Epoch: 884, Loss: 536.433\n",
            "Epoch: 885, Loss: 600.638\n",
            "Epoch: 886, Loss: 534.571\n",
            "Epoch: 887, Loss: 549.427\n",
            "Epoch: 888, Loss: 601.882\n",
            "Epoch: 889, Loss: 526.619\n",
            "Epoch: 890, Loss: 604.411\n",
            "Epoch: 891, Loss: 548.481\n",
            "Epoch: 892, Loss: 551.472\n",
            "Epoch: 893, Loss: 491.326\n",
            "Epoch: 894, Loss: 504.281\n",
            "Epoch: 895, Loss: 508.320\n",
            "Epoch: 896, Loss: 530.860\n",
            "Epoch: 897, Loss: 611.762\n",
            "Epoch: 898, Loss: 540.395\n",
            "Epoch: 899, Loss: 566.418\n",
            "Epoch: 900, Loss: 635.478\n",
            "Epoch: 901, Loss: 502.284\n",
            "Epoch: 902, Loss: 545.090\n",
            "Epoch: 903, Loss: 459.851\n",
            "Epoch: 904, Loss: 547.581\n",
            "Epoch: 905, Loss: 623.202\n",
            "Epoch: 906, Loss: 548.478\n",
            "Epoch: 907, Loss: 595.076\n",
            "Epoch: 908, Loss: 549.269\n",
            "Epoch: 909, Loss: 483.618\n",
            "Epoch: 910, Loss: 549.052\n",
            "Epoch: 911, Loss: 500.320\n",
            "Epoch: 912, Loss: 590.950\n",
            "Epoch: 913, Loss: 528.808\n",
            "Epoch: 914, Loss: 537.758\n",
            "Epoch: 915, Loss: 590.253\n",
            "Epoch: 916, Loss: 544.552\n",
            "Epoch: 917, Loss: 519.594\n",
            "Epoch: 918, Loss: 505.016\n",
            "Epoch: 919, Loss: 549.462\n",
            "Epoch: 920, Loss: 534.920\n",
            "Epoch: 921, Loss: 483.036\n",
            "Epoch: 922, Loss: 534.151\n",
            "Epoch: 923, Loss: 532.311\n",
            "Epoch: 924, Loss: 556.099\n",
            "Epoch: 925, Loss: 514.410\n",
            "Epoch: 926, Loss: 545.488\n",
            "Epoch: 927, Loss: 527.584\n",
            "Epoch: 928, Loss: 634.429\n",
            "Epoch: 929, Loss: 549.569\n",
            "Epoch: 930, Loss: 538.140\n",
            "Epoch: 931, Loss: 596.309\n",
            "Epoch: 932, Loss: 535.547\n",
            "Epoch: 933, Loss: 541.294\n",
            "Epoch: 934, Loss: 535.676\n",
            "Epoch: 935, Loss: 502.801\n",
            "Epoch: 936, Loss: 522.930\n",
            "Epoch: 937, Loss: 483.785\n",
            "Epoch: 938, Loss: 466.667\n",
            "Epoch: 939, Loss: 566.329\n",
            "Epoch: 940, Loss: 509.853\n",
            "Epoch: 941, Loss: 513.865\n",
            "Epoch: 942, Loss: 566.654\n",
            "Epoch: 943, Loss: 543.317\n",
            "Epoch: 944, Loss: 565.275\n",
            "Epoch: 945, Loss: 537.545\n",
            "Epoch: 946, Loss: 470.261\n",
            "Epoch: 947, Loss: 515.450\n",
            "Epoch: 948, Loss: 557.728\n",
            "Epoch: 949, Loss: 547.350\n",
            "Epoch: 950, Loss: 557.896\n",
            "Epoch: 951, Loss: 587.886\n",
            "Epoch: 952, Loss: 502.706\n",
            "Epoch: 953, Loss: 509.637\n",
            "Epoch: 954, Loss: 545.765\n",
            "Epoch: 955, Loss: 506.846\n",
            "Epoch: 956, Loss: 529.406\n",
            "Epoch: 957, Loss: 494.593\n",
            "Epoch: 958, Loss: 600.976\n",
            "Epoch: 959, Loss: 579.740\n",
            "Epoch: 960, Loss: 485.477\n",
            "Epoch: 961, Loss: 537.740\n",
            "Epoch: 962, Loss: 508.734\n",
            "Epoch: 963, Loss: 556.608\n",
            "Epoch: 964, Loss: 567.173\n",
            "Epoch: 965, Loss: 522.524\n",
            "Epoch: 966, Loss: 582.101\n",
            "Epoch: 967, Loss: 574.947\n",
            "Epoch: 968, Loss: 590.855\n",
            "Epoch: 969, Loss: 525.285\n",
            "Epoch: 970, Loss: 491.846\n",
            "Epoch: 971, Loss: 518.359\n",
            "Epoch: 972, Loss: 480.424\n",
            "Epoch: 973, Loss: 529.079\n",
            "Epoch: 974, Loss: 513.571\n",
            "Epoch: 975, Loss: 516.723\n",
            "Epoch: 976, Loss: 532.988\n",
            "Epoch: 977, Loss: 512.933\n",
            "Epoch: 978, Loss: 547.984\n",
            "Epoch: 979, Loss: 525.453\n",
            "Epoch: 980, Loss: 502.877\n",
            "Epoch: 981, Loss: 509.142\n",
            "Epoch: 982, Loss: 552.910\n",
            "Epoch: 983, Loss: 488.705\n",
            "Epoch: 984, Loss: 534.856\n",
            "Epoch: 985, Loss: 537.045\n",
            "Epoch: 986, Loss: 579.684\n",
            "Epoch: 987, Loss: 505.513\n",
            "Epoch: 988, Loss: 569.776\n",
            "Epoch: 989, Loss: 536.046\n",
            "Epoch: 990, Loss: 545.604\n",
            "Epoch: 991, Loss: 553.038\n",
            "Epoch: 992, Loss: 496.899\n",
            "Epoch: 993, Loss: 510.791\n",
            "Epoch: 994, Loss: 440.552\n",
            "Epoch: 995, Loss: 541.127\n",
            "Epoch: 996, Loss: 586.288\n",
            "Epoch: 997, Loss: 702.191\n",
            "Epoch: 998, Loss: 476.440\n",
            "Epoch: 999, Loss: 570.035\n",
            "Epoch: 1000, Loss: 492.845\n"
          ]
        }
      ]
    },
    {
      "cell_type": "code",
      "source": [
        "from matplotlib.pyplot import figure\n",
        "plt.figure(figsize=(25,6))\n",
        "plt.plot(y_test, label='Actual')\n",
        "plt.plot(y_pred_customsgd, label='Predicted')\n",
        "plt.legend(prop={'size': 16})\n",
        "plt.show()\n",
        "print('Mean Squared Error :',mean_squared_error(y_test, y_pred_customsgd))"
      ],
      "metadata": {
        "colab": {
          "base_uri": "https://localhost:8080/",
          "height": 335
        },
        "id": "gxPro7-lpqYz",
        "outputId": "2612b61f-96f2-44e7-e35d-9fa082cb1494"
      },
      "execution_count": 33,
      "outputs": [
        {
          "output_type": "display_data",
          "data": {
            "image/png": "[encoded data removed]",
            "text/plain": [
              "<Figure size 1800x432 with 1 Axes>"
            ]
          },
          "metadata": {
            "needs_background": "light"
          }
        },
        {
          "output_type": "stream",
          "name": "stdout",
          "text": [
            "Mean Squared Error : 27.590331523535305\n"
          ]
        }
      ]
    }
  ]
}